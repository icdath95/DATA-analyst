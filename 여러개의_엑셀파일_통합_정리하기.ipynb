{
  "nbformat": 4,
  "nbformat_minor": 0,
  "metadata": {
    "colab": {
      "name": "여러개의 엑셀파일 통합 정리하기.ipynb",
      "provenance": [],
      "collapsed_sections": [],
      "authorship_tag": "ABX9TyN2Rz9b5/pQOictt4gz4EzX",
      "include_colab_link": true
    },
    "kernelspec": {
      "name": "python3",
      "display_name": "Python 3"
    },
    "language_info": {
      "name": "python"
    }
  },
  "cells": [
    {
      "cell_type": "markdown",
      "metadata": {
        "id": "view-in-github",
        "colab_type": "text"
      },
      "source": [
        "<a href=\"https://colab.research.google.com/github/icdath95/DATA-analyst/blob/sub/%EC%97%AC%EB%9F%AC%EA%B0%9C%EC%9D%98_%EC%97%91%EC%85%80%ED%8C%8C%EC%9D%BC_%ED%86%B5%ED%95%A9_%EC%A0%95%EB%A6%AC%ED%95%98%EA%B8%B0.ipynb\" target=\"_parent\"><img src=\"https://colab.research.google.com/assets/colab-badge.svg\" alt=\"Open In Colab\"/></a>"
      ]
    },
    {
      "cell_type": "code",
      "metadata": {
        "id": "HE_iPej1lYPA"
      },
      "source": [
        ""
      ],
      "execution_count": null,
      "outputs": []
    },
    {
      "cell_type": "markdown",
      "metadata": {
        "id": "6jka9QM-lgRT"
      },
      "source": [
        "### 이 사람들 다 어디로 가는거지?\n",
        "## 지하철 이용현황 공공데이터 분석"
      ]
    },
    {
      "cell_type": "code",
      "metadata": {
        "id": "1D7y4LoPlkom"
      },
      "source": [
        "#엑셀 파일 통합하기\n",
        "\n",
        "# 내 컴퓨터 파일 조회하기\n",
        "# 반복문을 통한 파일 열기 / 병합하기\n",
        "# 일자/요일 데이터 정리하기\n",
        "# 저장하기"
      ],
      "execution_count": 2,
      "outputs": []
    },
    {
      "cell_type": "code",
      "metadata": {
        "id": "COxTufTilxz6"
      },
      "source": [
        "import pandas as pd"
      ],
      "execution_count": 3,
      "outputs": []
    },
    {
      "cell_type": "code",
      "metadata": {
        "colab": {
          "base_uri": "https://localhost:8080/",
          "height": 204
        },
        "id": "9hI3VTpGl2tC",
        "outputId": "c0a49e5a-62e6-41a6-f91a-2b65e011ec2a"
      },
      "source": [
        "file = '/home/CARD_SUBWAY_MONTH_201901.csv'\n",
        "\n",
        "raw = pd.read_csv(file)\n",
        "\n",
        "raw.head()"
      ],
      "execution_count": 5,
      "outputs": [
        {
          "output_type": "execute_result",
          "data": {
            "text/html": [
              "<div>\n",
              "<style scoped>\n",
              "    .dataframe tbody tr th:only-of-type {\n",
              "        vertical-align: middle;\n",
              "    }\n",
              "\n",
              "    .dataframe tbody tr th {\n",
              "        vertical-align: top;\n",
              "    }\n",
              "\n",
              "    .dataframe thead th {\n",
              "        text-align: right;\n",
              "    }\n",
              "</style>\n",
              "<table border=\"1\" class=\"dataframe\">\n",
              "  <thead>\n",
              "    <tr style=\"text-align: right;\">\n",
              "      <th></th>\n",
              "      <th>사용일자</th>\n",
              "      <th>노선명</th>\n",
              "      <th>역ID</th>\n",
              "      <th>역명</th>\n",
              "      <th>승차총승객수</th>\n",
              "      <th>하차총승객수</th>\n",
              "      <th>등록일자</th>\n",
              "    </tr>\n",
              "  </thead>\n",
              "  <tbody>\n",
              "    <tr>\n",
              "      <th>0</th>\n",
              "      <td>20190101</td>\n",
              "      <td>경춘선</td>\n",
              "      <td>1323</td>\n",
              "      <td>가평</td>\n",
              "      <td>1520</td>\n",
              "      <td>1436</td>\n",
              "      <td>20190104</td>\n",
              "    </tr>\n",
              "    <tr>\n",
              "      <th>1</th>\n",
              "      <td>20190101</td>\n",
              "      <td>경춘선</td>\n",
              "      <td>1322</td>\n",
              "      <td>상천</td>\n",
              "      <td>275</td>\n",
              "      <td>114</td>\n",
              "      <td>20190104</td>\n",
              "    </tr>\n",
              "    <tr>\n",
              "      <th>2</th>\n",
              "      <td>20190101</td>\n",
              "      <td>경춘선</td>\n",
              "      <td>1321</td>\n",
              "      <td>청평</td>\n",
              "      <td>1509</td>\n",
              "      <td>1083</td>\n",
              "      <td>20190104</td>\n",
              "    </tr>\n",
              "    <tr>\n",
              "      <th>3</th>\n",
              "      <td>20190101</td>\n",
              "      <td>경춘선</td>\n",
              "      <td>1320</td>\n",
              "      <td>대성리</td>\n",
              "      <td>357</td>\n",
              "      <td>271</td>\n",
              "      <td>20190104</td>\n",
              "    </tr>\n",
              "    <tr>\n",
              "      <th>4</th>\n",
              "      <td>20190101</td>\n",
              "      <td>경춘선</td>\n",
              "      <td>1319</td>\n",
              "      <td>마석</td>\n",
              "      <td>1772</td>\n",
              "      <td>1963</td>\n",
              "      <td>20190104</td>\n",
              "    </tr>\n",
              "  </tbody>\n",
              "</table>\n",
              "</div>"
            ],
            "text/plain": [
              "       사용일자  노선명   역ID   역명  승차총승객수  하차총승객수      등록일자\n",
              "0  20190101  경춘선  1323   가평    1520    1436  20190104\n",
              "1  20190101  경춘선  1322   상천     275     114  20190104\n",
              "2  20190101  경춘선  1321   청평    1509    1083  20190104\n",
              "3  20190101  경춘선  1320  대성리     357     271  20190104\n",
              "4  20190101  경춘선  1319   마석    1772    1963  20190104"
            ]
          },
          "metadata": {
            "tags": []
          },
          "execution_count": 5
        }
      ]
    },
    {
      "cell_type": "code",
      "metadata": {
        "colab": {
          "base_uri": "https://localhost:8080/"
        },
        "id": "brBaGQB9nPKE",
        "outputId": "60c66d23-6122-4f5f-bf5b-ece3c219026d"
      },
      "source": [
        "raw.info()"
      ],
      "execution_count": 6,
      "outputs": [
        {
          "output_type": "stream",
          "text": [
            "<class 'pandas.core.frame.DataFrame'>\n",
            "RangeIndex: 18334 entries, 0 to 18333\n",
            "Data columns (total 7 columns):\n",
            " #   Column  Non-Null Count  Dtype \n",
            "---  ------  --------------  ----- \n",
            " 0   사용일자    18334 non-null  int64 \n",
            " 1   노선명     18334 non-null  object\n",
            " 2   역ID     18334 non-null  int64 \n",
            " 3   역명      18334 non-null  object\n",
            " 4   승차총승객수  18334 non-null  int64 \n",
            " 5   하차총승객수  18334 non-null  int64 \n",
            " 6   등록일자    18334 non-null  int64 \n",
            "dtypes: int64(5), object(2)\n",
            "memory usage: 1002.8+ KB\n"
          ],
          "name": "stdout"
        }
      ]
    },
    {
      "cell_type": "markdown",
      "metadata": {
        "id": "rQabMkhXoCYH"
      },
      "source": [
        "## 참고) 판다스로 파일 읽어오기"
      ]
    },
    {
      "cell_type": "markdown",
      "metadata": {
        "id": "cXUMOI-aoL4x"
      },
      "source": [
        ""
      ]
    },
    {
      "cell_type": "markdown",
      "metadata": {
        "id": "NvWUXKkeoSqI"
      },
      "source": [
        "데이터 파일 읽기: read_excel / read_csv\n",
        "pd.read_excel('파일경로+파일명.xlsx')\n",
        "\n",
        "pd.read_csv('파일경로+파일명.csv', encoding = 'utf-8')\n",
        "\n",
        "pd.read_csv('파일경로+파일명.csv', encoding = 'cp949') # MS 엑셀에서 저장한 경우\n",
        "\n",
        "#자주 사용하는 옵션\n",
        "pd.read_excel('파일경로', 옵션1 = 값1, 옵션2 = 값2 ....)\n",
        "\n",
        "옵션 종류\n",
        "\n",
        "index_col = 컬럼인덱스번호 # 몇번째 컬럼을 인덱스로 지정할 것인지 선택\n",
        "\n",
        "header = row인덱스번호 # 몇번째 row 부터 표 데이터로 볼 것인지 선택\n",
        "thousands = ',' # 천 단위 기호\n",
        " , 사용 --> xxx,xxx 문자가 아닌 숫자로 인식\n",
        "참고 https://pandas.pydata.org/pandas-docs/stable/reference/api/pandas.read_excel.html"
      ]
    },
    {
      "cell_type": "code",
      "metadata": {
        "id": "XQLYSGRVoKqf"
      },
      "source": [
        "#이번에 여러파일을 불러오기\n",
        "# 2개 파일 불러와서 합치기\n",
        "\n",
        "raw = pd.DataFrame()\n",
        "\n",
        "file1 = '/home/CARD_SUBWAY_MONTH_201901.csv'\n",
        "file2 = \"/home/CARD_SUBWAY_MONTH_201902.csv\"\n",
        "\n",
        "temp = pd.read_csv(file1)\n",
        "raw.append(temp)\n",
        "\n",
        "temp = pd.read_csv(file2)\n",
        "raw= raw.append(temp)"
      ],
      "execution_count": 8,
      "outputs": []
    },
    {
      "cell_type": "code",
      "metadata": {
        "id": "YkraC29yoF3O"
      },
      "source": [
        "# ? 폴더에 있는 모든 파일을 불러와서 병합할 수 있을까?\n",
        "\n",
        "# 폴더/파일을 관리하는 os 라이브러리를 불러옵니다.\n",
        "\n",
        "import os "
      ],
      "execution_count": 9,
      "outputs": []
    },
    {
      "cell_type": "code",
      "metadata": {
        "colab": {
          "base_uri": "https://localhost:8080/"
        },
        "id": "Rth0VrSDqw4Q",
        "outputId": "fc454fca-65e6-4e01-eda6-bf560ab929e1"
      },
      "source": [
        "# os.listir()을 이용해 rawfiles 폴더에 있는 파일 리스트를 살펴봄\n",
        "dirpath = \"/home/\"\n",
        "files = os.listdir(dirpath)\n",
        "files"
      ],
      "execution_count": 10,
      "outputs": [
        {
          "output_type": "execute_result",
          "data": {
            "text/plain": [
              "['CARD_SUBWAY_MONTH_201904.csv',\n",
              " 'CARD_SUBWAY_MONTH_201906.csv',\n",
              " 'CARD_SUBWAY_MONTH_201902.csv',\n",
              " 'CARD_SUBWAY_MONTH_201905.csv',\n",
              " 'CARD_SUBWAY_MONTH_201903.csv',\n",
              " 'CARD_SUBWAY_MONTH_201901.csv']"
            ]
          },
          "metadata": {
            "tags": []
          },
          "execution_count": 10
        }
      ]
    },
    {
      "cell_type": "code",
      "metadata": {
        "colab": {
          "base_uri": "https://localhost:8080/",
          "height": 204
        },
        "id": "F-hH9Zi9q5_S",
        "outputId": "add7f09c-7d9f-4908-f2d1-4c4c7000b61b"
      },
      "source": [
        "# 여러개의 파일을 병합\n",
        "\n",
        "# 합치는 방법\n",
        "\n",
        "# 1. 빈 데이터 프레임을 준비\n",
        "raw = pd.DataFrame()\n",
        "\n",
        "# 반복문 -> csv 파일 읽기 -> 데이터프레임에 추가하기.\n",
        "for file in files:\n",
        "  #print(dirpath + file)\n",
        "  temp = pd.read_csv(dirpath + file)\n",
        "  raw = raw.append(temp)  #append는 원본데이터에 한번 넣어봄? 느낌 꼭 앞에 =로 저장해줘야햄\n",
        "  #raw = raw.append(temp, ignore_index = True)   ignore_index = True  --> 기존 인덱스는 무시하고\n",
        "raw.tail()"
      ],
      "execution_count": 13,
      "outputs": [
        {
          "output_type": "execute_result",
          "data": {
            "text/html": [
              "<div>\n",
              "<style scoped>\n",
              "    .dataframe tbody tr th:only-of-type {\n",
              "        vertical-align: middle;\n",
              "    }\n",
              "\n",
              "    .dataframe tbody tr th {\n",
              "        vertical-align: top;\n",
              "    }\n",
              "\n",
              "    .dataframe thead th {\n",
              "        text-align: right;\n",
              "    }\n",
              "</style>\n",
              "<table border=\"1\" class=\"dataframe\">\n",
              "  <thead>\n",
              "    <tr style=\"text-align: right;\">\n",
              "      <th></th>\n",
              "      <th>사용일자</th>\n",
              "      <th>노선명</th>\n",
              "      <th>역ID</th>\n",
              "      <th>역명</th>\n",
              "      <th>승차총승객수</th>\n",
              "      <th>하차총승객수</th>\n",
              "      <th>등록일자</th>\n",
              "    </tr>\n",
              "  </thead>\n",
              "  <tbody>\n",
              "    <tr>\n",
              "      <th>18329</th>\n",
              "      <td>20190131</td>\n",
              "      <td>1호선</td>\n",
              "      <td>155</td>\n",
              "      <td>동대문</td>\n",
              "      <td>14563</td>\n",
              "      <td>15139</td>\n",
              "      <td>20190203</td>\n",
              "    </tr>\n",
              "    <tr>\n",
              "      <th>18330</th>\n",
              "      <td>20190131</td>\n",
              "      <td>1호선</td>\n",
              "      <td>154</td>\n",
              "      <td>종로5가</td>\n",
              "      <td>30249</td>\n",
              "      <td>29703</td>\n",
              "      <td>20190203</td>\n",
              "    </tr>\n",
              "    <tr>\n",
              "      <th>18331</th>\n",
              "      <td>20190131</td>\n",
              "      <td>1호선</td>\n",
              "      <td>153</td>\n",
              "      <td>종로3가</td>\n",
              "      <td>36804</td>\n",
              "      <td>35050</td>\n",
              "      <td>20190203</td>\n",
              "    </tr>\n",
              "    <tr>\n",
              "      <th>18332</th>\n",
              "      <td>20190131</td>\n",
              "      <td>1호선</td>\n",
              "      <td>152</td>\n",
              "      <td>종각</td>\n",
              "      <td>51970</td>\n",
              "      <td>50080</td>\n",
              "      <td>20190203</td>\n",
              "    </tr>\n",
              "    <tr>\n",
              "      <th>18333</th>\n",
              "      <td>20190131</td>\n",
              "      <td>1호선</td>\n",
              "      <td>151</td>\n",
              "      <td>시청</td>\n",
              "      <td>29059</td>\n",
              "      <td>29169</td>\n",
              "      <td>20190203</td>\n",
              "    </tr>\n",
              "  </tbody>\n",
              "</table>\n",
              "</div>"
            ],
            "text/plain": [
              "           사용일자  노선명  역ID    역명  승차총승객수  하차총승객수      등록일자\n",
              "18329  20190131  1호선  155   동대문   14563   15139  20190203\n",
              "18330  20190131  1호선  154  종로5가   30249   29703  20190203\n",
              "18331  20190131  1호선  153  종로3가   36804   35050  20190203\n",
              "18332  20190131  1호선  152    종각   51970   50080  20190203\n",
              "18333  20190131  1호선  151    시청   29059   29169  20190203"
            ]
          },
          "metadata": {
            "tags": []
          },
          "execution_count": 13
        }
      ]
    },
    {
      "cell_type": "code",
      "metadata": {
        "colab": {
          "base_uri": "https://localhost:8080/"
        },
        "id": "j8bGt5eEKN1r",
        "outputId": "778affa4-5a9a-4d06-f3ed-2a486a7c9738"
      },
      "source": [
        "raw.info()\n",
        "# 위에처럼 자료들을 합치게 되면 index번호가 새로 부여되는게 아니라\n",
        "# 원래 파일에 들어있던 인덱스 번호를 그대로 사용하게 됨\n",
        "# 그래서 info에 행이 99342개로 나와도, tail에선 18333이 마지막 숫자야\n",
        "# 결론적으로는 합치고 인덱스 번호 새로 부여(reset)하자!!"
      ],
      "execution_count": 12,
      "outputs": [
        {
          "output_type": "stream",
          "text": [
            "<class 'pandas.core.frame.DataFrame'>\n",
            "Int64Index: 99342 entries, 0 to 18333\n",
            "Data columns (total 7 columns):\n",
            " #   Column  Non-Null Count  Dtype \n",
            "---  ------  --------------  ----- \n",
            " 0   사용일자    99342 non-null  int64 \n",
            " 1   노선명     99342 non-null  object\n",
            " 2   역ID     99342 non-null  int64 \n",
            " 3   역명      99342 non-null  object\n",
            " 4   승차총승객수  99342 non-null  int64 \n",
            " 5   하차총승객수  99342 non-null  int64 \n",
            " 6   등록일자    99342 non-null  int64 \n",
            "dtypes: int64(5), object(2)\n",
            "memory usage: 6.1+ MB\n"
          ],
          "name": "stdout"
        }
      ]
    },
    {
      "cell_type": "code",
      "metadata": {
        "colab": {
          "base_uri": "https://localhost:8080/",
          "height": 204
        },
        "id": "QjxFUWmQ2M4u",
        "outputId": "8f3dc797-b800-42f4-ab71-8fa9134e95c3"
      },
      "source": [
        "raw = raw.reset_index(drop = True) # 기존 인덱스 초기화는 drop으로 버려줌\n",
        "raw.tail()\n",
        "# 함수 명령어 / 옵션 살펴보기 -> shift + tab"
      ],
      "execution_count": 15,
      "outputs": [
        {
          "output_type": "execute_result",
          "data": {
            "text/html": [
              "<div>\n",
              "<style scoped>\n",
              "    .dataframe tbody tr th:only-of-type {\n",
              "        vertical-align: middle;\n",
              "    }\n",
              "\n",
              "    .dataframe tbody tr th {\n",
              "        vertical-align: top;\n",
              "    }\n",
              "\n",
              "    .dataframe thead th {\n",
              "        text-align: right;\n",
              "    }\n",
              "</style>\n",
              "<table border=\"1\" class=\"dataframe\">\n",
              "  <thead>\n",
              "    <tr style=\"text-align: right;\">\n",
              "      <th></th>\n",
              "      <th>index</th>\n",
              "      <th>사용일자</th>\n",
              "      <th>노선명</th>\n",
              "      <th>역ID</th>\n",
              "      <th>역명</th>\n",
              "      <th>승차총승객수</th>\n",
              "      <th>하차총승객수</th>\n",
              "      <th>등록일자</th>\n",
              "    </tr>\n",
              "  </thead>\n",
              "  <tbody>\n",
              "    <tr>\n",
              "      <th>99337</th>\n",
              "      <td>18329</td>\n",
              "      <td>20190131</td>\n",
              "      <td>1호선</td>\n",
              "      <td>155</td>\n",
              "      <td>동대문</td>\n",
              "      <td>14563</td>\n",
              "      <td>15139</td>\n",
              "      <td>20190203</td>\n",
              "    </tr>\n",
              "    <tr>\n",
              "      <th>99338</th>\n",
              "      <td>18330</td>\n",
              "      <td>20190131</td>\n",
              "      <td>1호선</td>\n",
              "      <td>154</td>\n",
              "      <td>종로5가</td>\n",
              "      <td>30249</td>\n",
              "      <td>29703</td>\n",
              "      <td>20190203</td>\n",
              "    </tr>\n",
              "    <tr>\n",
              "      <th>99339</th>\n",
              "      <td>18331</td>\n",
              "      <td>20190131</td>\n",
              "      <td>1호선</td>\n",
              "      <td>153</td>\n",
              "      <td>종로3가</td>\n",
              "      <td>36804</td>\n",
              "      <td>35050</td>\n",
              "      <td>20190203</td>\n",
              "    </tr>\n",
              "    <tr>\n",
              "      <th>99340</th>\n",
              "      <td>18332</td>\n",
              "      <td>20190131</td>\n",
              "      <td>1호선</td>\n",
              "      <td>152</td>\n",
              "      <td>종각</td>\n",
              "      <td>51970</td>\n",
              "      <td>50080</td>\n",
              "      <td>20190203</td>\n",
              "    </tr>\n",
              "    <tr>\n",
              "      <th>99341</th>\n",
              "      <td>18333</td>\n",
              "      <td>20190131</td>\n",
              "      <td>1호선</td>\n",
              "      <td>151</td>\n",
              "      <td>시청</td>\n",
              "      <td>29059</td>\n",
              "      <td>29169</td>\n",
              "      <td>20190203</td>\n",
              "    </tr>\n",
              "  </tbody>\n",
              "</table>\n",
              "</div>"
            ],
            "text/plain": [
              "       index      사용일자  노선명  역ID    역명  승차총승객수  하차총승객수      등록일자\n",
              "99337  18329  20190131  1호선  155   동대문   14563   15139  20190203\n",
              "99338  18330  20190131  1호선  154  종로5가   30249   29703  20190203\n",
              "99339  18331  20190131  1호선  153  종로3가   36804   35050  20190203\n",
              "99340  18332  20190131  1호선  152    종각   51970   50080  20190203\n",
              "99341  18333  20190131  1호선  151    시청   29059   29169  20190203"
            ]
          },
          "metadata": {
            "tags": []
          },
          "execution_count": 15
        }
      ]
    },
    {
      "cell_type": "markdown",
      "metadata": {
        "id": "NpYd7xdP4Ws7"
      },
      "source": [
        "## Q. 요일을 추가해보자!"
      ]
    },
    {
      "cell_type": "code",
      "metadata": {
        "id": "geKDihtl3aKW"
      },
      "source": [
        "#일시를 관리하는 datetime 라이브러리를 불러오기\n",
        "\n",
        "from datetime import datetime\n"
      ],
      "execution_count": 16,
      "outputs": []
    },
    {
      "cell_type": "markdown",
      "metadata": {
        "id": "7q4G0kEG46ys"
      },
      "source": [
        "datetime.strptime('날짜str', `str형태`)  : 문자 --> 날짜 타입\n",
        "\n",
        "- `str형태` %Y-%m-%d %H:%M:%S\n",
        "    - %Y : 연도(4자리)\n",
        "    - %m:  월(2자리)\n",
        "    - %d:  일자(2자리)\n",
        "    \n",
        "    - %H : 시간\n",
        "    - %M : 분\n",
        "    - %S : 초"
      ]
    },
    {
      "cell_type": "code",
      "metadata": {
        "colab": {
          "base_uri": "https://localhost:8080/"
        },
        "id": "oxSd3AuH4ypU",
        "outputId": "6f40e1d7-0986-449b-d73f-dc8deeabce3e"
      },
      "source": [
        "# datetime.strptime()을 이용해 str타입을 날짜 타입으로 변경\n",
        "# dtaetime.strptime('날짜str', 형태)\n",
        "# ex)\n",
        "\n",
        "s = '2019-01-05'\n",
        "datetime.strptime(s, \"%Y-%m-%d\")#d이후에 시 분 초 추가 가능\n",
        "# 민테 2019는 년, 1=월, 5=날, 0=시, 0=분 을 뜻함"
      ],
      "execution_count": 18,
      "outputs": [
        {
          "output_type": "execute_result",
          "data": {
            "text/plain": [
              "datetime.datetime(2019, 1, 5, 0, 0)"
            ]
          },
          "metadata": {
            "tags": []
          },
          "execution_count": 18
        }
      ]
    },
    {
      "cell_type": "code",
      "metadata": {
        "colab": {
          "base_uri": "https://localhost:8080/"
        },
        "id": "r0eYaVeM6nqv",
        "outputId": "8ba497a4-bd85-4966-ef82-66b21a231983"
      },
      "source": [
        "# 날짜 타입을 요일로 변경하기 위해서는 weekday() 를 사용합니다. \n",
        "# 월요일 : 0 ~ 일요일 : 6\n",
        "\n",
        "s = '20190629'\n",
        "date = datetime.strptime(s, '%Y%m%d')\n",
        "date\n",
        "\n",
        "weekday_dict = ['월', '화', '수', '목', '금', '토', '일']\n",
        "weekday_index = date.weekday()\n",
        "print(weekday_index)\n",
        "print(weekday_dict[weekday_index])"
      ],
      "execution_count": 21,
      "outputs": [
        {
          "output_type": "stream",
          "text": [
            "5\n",
            "토\n"
          ],
          "name": "stdout"
        }
      ]
    },
    {
      "cell_type": "code",
      "metadata": {
        "id": "GgVONKvg9Nzc"
      },
      "source": [
        ""
      ],
      "execution_count": null,
      "outputs": []
    }
  ]
}