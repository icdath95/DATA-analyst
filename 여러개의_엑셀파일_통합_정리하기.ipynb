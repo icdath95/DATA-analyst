{
  "nbformat": 4,
  "nbformat_minor": 0,
  "metadata": {
    "colab": {
      "name": "여러개의 엑셀파일 통합 정리하기.ipynb",
      "provenance": [],
      "collapsed_sections": [],
      "authorship_tag": "ABX9TyOnshw86wQGQlQYT03u/WRM",
      "include_colab_link": true
    },
    "kernelspec": {
      "name": "python3",
      "display_name": "Python 3"
    },
    "language_info": {
      "name": "python"
    }
  },
  "cells": [
    {
      "cell_type": "markdown",
      "metadata": {
        "id": "view-in-github",
        "colab_type": "text"
      },
      "source": [
        "<a href=\"https://colab.research.google.com/github/icdath95/DATA-analyst/blob/sub/%EC%97%AC%EB%9F%AC%EA%B0%9C%EC%9D%98_%EC%97%91%EC%85%80%ED%8C%8C%EC%9D%BC_%ED%86%B5%ED%95%A9_%EC%A0%95%EB%A6%AC%ED%95%98%EA%B8%B0.ipynb\" target=\"_parent\"><img src=\"https://colab.research.google.com/assets/colab-badge.svg\" alt=\"Open In Colab\"/></a>"
      ]
    },
    {
      "cell_type": "code",
      "metadata": {
        "id": "HE_iPej1lYPA"
      },
      "source": [
        ""
      ],
      "execution_count": 3,
      "outputs": []
    },
    {
      "cell_type": "markdown",
      "metadata": {
        "id": "6jka9QM-lgRT"
      },
      "source": [
        "### 이 사람들 다 어디로 가는거지?\n",
        "## 지하철 이용현황 공공데이터 분석"
      ]
    },
    {
      "cell_type": "code",
      "metadata": {
        "id": "1D7y4LoPlkom"
      },
      "source": [
        "#엑셀 파일 통합하기\n",
        "\n",
        "# 내 컴퓨터 파일 조회하기\n",
        "# 반복문을 통한 파일 열기 / 병합하기\n",
        "# 일자/요일 데이터 정리하기\n",
        "# 저장하기"
      ],
      "execution_count": 4,
      "outputs": []
    },
    {
      "cell_type": "code",
      "metadata": {
        "id": "COxTufTilxz6"
      },
      "source": [
        "import pandas as pd"
      ],
      "execution_count": 5,
      "outputs": []
    },
    {
      "cell_type": "code",
      "metadata": {
        "colab": {
          "base_uri": "https://localhost:8080/",
          "height": 204
        },
        "id": "9hI3VTpGl2tC",
        "outputId": "0a6da846-325b-43d7-a64e-701d3b029291"
      },
      "source": [
        "file = '/home/CARD_SUBWAY_MONTH_201901.csv'\n",
        "\n",
        "raw = pd.read_csv(file)\n",
        "\n",
        "raw.head()"
      ],
      "execution_count": 6,
      "outputs": [
        {
          "output_type": "execute_result",
          "data": {
            "text/html": [
              "<div>\n",
              "<style scoped>\n",
              "    .dataframe tbody tr th:only-of-type {\n",
              "        vertical-align: middle;\n",
              "    }\n",
              "\n",
              "    .dataframe tbody tr th {\n",
              "        vertical-align: top;\n",
              "    }\n",
              "\n",
              "    .dataframe thead th {\n",
              "        text-align: right;\n",
              "    }\n",
              "</style>\n",
              "<table border=\"1\" class=\"dataframe\">\n",
              "  <thead>\n",
              "    <tr style=\"text-align: right;\">\n",
              "      <th></th>\n",
              "      <th>사용일자</th>\n",
              "      <th>노선명</th>\n",
              "      <th>역ID</th>\n",
              "      <th>역명</th>\n",
              "      <th>승차총승객수</th>\n",
              "      <th>하차총승객수</th>\n",
              "      <th>등록일자</th>\n",
              "    </tr>\n",
              "  </thead>\n",
              "  <tbody>\n",
              "    <tr>\n",
              "      <th>0</th>\n",
              "      <td>20190101</td>\n",
              "      <td>경춘선</td>\n",
              "      <td>1323</td>\n",
              "      <td>가평</td>\n",
              "      <td>1520</td>\n",
              "      <td>1436</td>\n",
              "      <td>20190104</td>\n",
              "    </tr>\n",
              "    <tr>\n",
              "      <th>1</th>\n",
              "      <td>20190101</td>\n",
              "      <td>경춘선</td>\n",
              "      <td>1322</td>\n",
              "      <td>상천</td>\n",
              "      <td>275</td>\n",
              "      <td>114</td>\n",
              "      <td>20190104</td>\n",
              "    </tr>\n",
              "    <tr>\n",
              "      <th>2</th>\n",
              "      <td>20190101</td>\n",
              "      <td>경춘선</td>\n",
              "      <td>1321</td>\n",
              "      <td>청평</td>\n",
              "      <td>1509</td>\n",
              "      <td>1083</td>\n",
              "      <td>20190104</td>\n",
              "    </tr>\n",
              "    <tr>\n",
              "      <th>3</th>\n",
              "      <td>20190101</td>\n",
              "      <td>경춘선</td>\n",
              "      <td>1320</td>\n",
              "      <td>대성리</td>\n",
              "      <td>357</td>\n",
              "      <td>271</td>\n",
              "      <td>20190104</td>\n",
              "    </tr>\n",
              "    <tr>\n",
              "      <th>4</th>\n",
              "      <td>20190101</td>\n",
              "      <td>경춘선</td>\n",
              "      <td>1319</td>\n",
              "      <td>마석</td>\n",
              "      <td>1772</td>\n",
              "      <td>1963</td>\n",
              "      <td>20190104</td>\n",
              "    </tr>\n",
              "  </tbody>\n",
              "</table>\n",
              "</div>"
            ],
            "text/plain": [
              "       사용일자  노선명   역ID   역명  승차총승객수  하차총승객수      등록일자\n",
              "0  20190101  경춘선  1323   가평    1520    1436  20190104\n",
              "1  20190101  경춘선  1322   상천     275     114  20190104\n",
              "2  20190101  경춘선  1321   청평    1509    1083  20190104\n",
              "3  20190101  경춘선  1320  대성리     357     271  20190104\n",
              "4  20190101  경춘선  1319   마석    1772    1963  20190104"
            ]
          },
          "metadata": {
            "tags": []
          },
          "execution_count": 6
        }
      ]
    },
    {
      "cell_type": "code",
      "metadata": {
        "colab": {
          "base_uri": "https://localhost:8080/"
        },
        "id": "brBaGQB9nPKE",
        "outputId": "cb6114f3-19e7-4936-e221-5c46dcb020d9"
      },
      "source": [
        "raw.info()"
      ],
      "execution_count": 7,
      "outputs": [
        {
          "output_type": "stream",
          "text": [
            "<class 'pandas.core.frame.DataFrame'>\n",
            "RangeIndex: 18334 entries, 0 to 18333\n",
            "Data columns (total 7 columns):\n",
            " #   Column  Non-Null Count  Dtype \n",
            "---  ------  --------------  ----- \n",
            " 0   사용일자    18334 non-null  int64 \n",
            " 1   노선명     18334 non-null  object\n",
            " 2   역ID     18334 non-null  int64 \n",
            " 3   역명      18334 non-null  object\n",
            " 4   승차총승객수  18334 non-null  int64 \n",
            " 5   하차총승객수  18334 non-null  int64 \n",
            " 6   등록일자    18334 non-null  int64 \n",
            "dtypes: int64(5), object(2)\n",
            "memory usage: 1002.8+ KB\n"
          ],
          "name": "stdout"
        }
      ]
    },
    {
      "cell_type": "markdown",
      "metadata": {
        "id": "rQabMkhXoCYH"
      },
      "source": [
        "## 참고) 판다스로 파일 읽어오기"
      ]
    },
    {
      "cell_type": "markdown",
      "metadata": {
        "id": "cXUMOI-aoL4x"
      },
      "source": [
        ""
      ]
    },
    {
      "cell_type": "markdown",
      "metadata": {
        "id": "NvWUXKkeoSqI"
      },
      "source": [
        "데이터 파일 읽기: read_excel / read_csv\n",
        "pd.read_excel('파일경로+파일명.xlsx')\n",
        "\n",
        "pd.read_csv('파일경로+파일명.csv', encoding = 'utf-8')\n",
        "\n",
        "pd.read_csv('파일경로+파일명.csv', encoding = 'cp949') # MS 엑셀에서 저장한 경우\n",
        "\n",
        "#자주 사용하는 옵션\n",
        "pd.read_excel('파일경로', 옵션1 = 값1, 옵션2 = 값2 ....)\n",
        "\n",
        "옵션 종류\n",
        "\n",
        "index_col = 컬럼인덱스번호 # 몇번째 컬럼을 인덱스로 지정할 것인지 선택\n",
        "\n",
        "header = row인덱스번호 # 몇번째 row 부터 표 데이터로 볼 것인지 선택\n",
        "thousands = ',' # 천 단위 기호\n",
        " , 사용 --> xxx,xxx 문자가 아닌 숫자로 인식\n",
        "참고 https://pandas.pydata.org/pandas-docs/stable/reference/api/pandas.read_excel.html"
      ]
    },
    {
      "cell_type": "code",
      "metadata": {
        "id": "XQLYSGRVoKqf"
      },
      "source": [
        "#이번에 여러파일을 불러오기\n",
        "# 2개 파일 불러와서 합치기\n",
        "\n",
        "raw = pd.DataFrame()\n",
        "\n",
        "file1 = '/home/CARD_SUBWAY_MONTH_201901.csv'\n",
        "file2 = \"/home/CARD_SUBWAY_MONTH_201902.csv\"\n",
        "\n",
        "temp = pd.read_csv(file1)\n",
        "raw.append(temp)\n",
        "\n",
        "temp = pd.read_csv(file2)\n",
        "raw= raw.append(temp)"
      ],
      "execution_count": 8,
      "outputs": []
    },
    {
      "cell_type": "code",
      "metadata": {
        "id": "YkraC29yoF3O"
      },
      "source": [
        "# ? 폴더에 있는 모든 파일을 불러와서 병합할 수 있을까?\n",
        "\n",
        "# 폴더/파일을 관리하는 os 라이브러리를 불러옵니다.\n",
        "\n",
        "import os "
      ],
      "execution_count": 9,
      "outputs": []
    },
    {
      "cell_type": "code",
      "metadata": {
        "colab": {
          "base_uri": "https://localhost:8080/"
        },
        "id": "Rth0VrSDqw4Q",
        "outputId": "94451453-6d5e-4f68-dcda-80cd84efd1d2"
      },
      "source": [
        "# os.listir()을 이용해 rawfiles 폴더에 있는 파일 리스트를 살펴봄\n",
        "dirpath = \"/home/\"\n",
        "files = os.listdir(dirpath)\n",
        "files"
      ],
      "execution_count": 10,
      "outputs": [
        {
          "output_type": "execute_result",
          "data": {
            "text/plain": [
              "['CARD_SUBWAY_MONTH_201902.csv',\n",
              " 'CARD_SUBWAY_MONTH_201901.csv',\n",
              " 'CARD_SUBWAY_MONTH_201906.csv',\n",
              " 'CARD_SUBWAY_MONTH_201904.csv',\n",
              " 'CARD_SUBWAY_MONTH_201905.csv',\n",
              " 'CARD_SUBWAY_MONTH_201903.csv']"
            ]
          },
          "metadata": {
            "tags": []
          },
          "execution_count": 10
        }
      ]
    },
    {
      "cell_type": "code",
      "metadata": {
        "colab": {
          "base_uri": "https://localhost:8080/",
          "height": 204
        },
        "id": "F-hH9Zi9q5_S",
        "outputId": "7519cf1a-75b0-4ec9-adba-dc5f89c7a306"
      },
      "source": [
        "# 여러개의 파일을 병합\n",
        "\n",
        "# 합치는 방법\n",
        "\n",
        "# 1. 빈 데이터 프레임을 준비\n",
        "raw = pd.DataFrame()\n",
        "\n",
        "# 반복문 -> csv 파일 읽기 -> 데이터프레임에 추가하기.\n",
        "for file in files:\n",
        "  #print(dirpath + file)\n",
        "  temp = pd.read_csv(dirpath + file)\n",
        "  raw = raw.append(temp)  #append는 원본데이터에 한번 넣어봄? 느낌 꼭 앞에 =로 저장해줘야햄\n",
        "  #raw = raw.append(temp, ignore_index = True)   ignore_index = True  --> 기존 인덱스는 무시하고\n",
        "raw.tail()"
      ],
      "execution_count": 11,
      "outputs": [
        {
          "output_type": "execute_result",
          "data": {
            "text/html": [
              "<div>\n",
              "<style scoped>\n",
              "    .dataframe tbody tr th:only-of-type {\n",
              "        vertical-align: middle;\n",
              "    }\n",
              "\n",
              "    .dataframe tbody tr th {\n",
              "        vertical-align: top;\n",
              "    }\n",
              "\n",
              "    .dataframe thead th {\n",
              "        text-align: right;\n",
              "    }\n",
              "</style>\n",
              "<table border=\"1\" class=\"dataframe\">\n",
              "  <thead>\n",
              "    <tr style=\"text-align: right;\">\n",
              "      <th></th>\n",
              "      <th>사용일자</th>\n",
              "      <th>노선명</th>\n",
              "      <th>역ID</th>\n",
              "      <th>역명</th>\n",
              "      <th>승차총승객수</th>\n",
              "      <th>하차총승객수</th>\n",
              "      <th>등록일자</th>\n",
              "    </tr>\n",
              "  </thead>\n",
              "  <tbody>\n",
              "    <tr>\n",
              "      <th>12424</th>\n",
              "      <td>20190331</td>\n",
              "      <td>중앙선</td>\n",
              "      <td>1215</td>\n",
              "      <td>아신</td>\n",
              "      <td>618</td>\n",
              "      <td>564</td>\n",
              "      <td>20190403</td>\n",
              "    </tr>\n",
              "    <tr>\n",
              "      <th>12425</th>\n",
              "      <td>20190331</td>\n",
              "      <td>중앙선</td>\n",
              "      <td>1216</td>\n",
              "      <td>오빈</td>\n",
              "      <td>292</td>\n",
              "      <td>264</td>\n",
              "      <td>20190403</td>\n",
              "    </tr>\n",
              "    <tr>\n",
              "      <th>12426</th>\n",
              "      <td>20190331</td>\n",
              "      <td>중앙선</td>\n",
              "      <td>1217</td>\n",
              "      <td>양평</td>\n",
              "      <td>2907</td>\n",
              "      <td>2644</td>\n",
              "      <td>20190403</td>\n",
              "    </tr>\n",
              "    <tr>\n",
              "      <th>12427</th>\n",
              "      <td>20190331</td>\n",
              "      <td>중앙선</td>\n",
              "      <td>1218</td>\n",
              "      <td>원덕</td>\n",
              "      <td>492</td>\n",
              "      <td>483</td>\n",
              "      <td>20190403</td>\n",
              "    </tr>\n",
              "    <tr>\n",
              "      <th>12428</th>\n",
              "      <td>20190331</td>\n",
              "      <td>우이신설선</td>\n",
              "      <td>4704</td>\n",
              "      <td>가오리</td>\n",
              "      <td>2538</td>\n",
              "      <td>2424</td>\n",
              "      <td>20190403</td>\n",
              "    </tr>\n",
              "  </tbody>\n",
              "</table>\n",
              "</div>"
            ],
            "text/plain": [
              "           사용일자    노선명   역ID   역명  승차총승객수  하차총승객수      등록일자\n",
              "12424  20190331    중앙선  1215   아신     618     564  20190403\n",
              "12425  20190331    중앙선  1216   오빈     292     264  20190403\n",
              "12426  20190331    중앙선  1217   양평    2907    2644  20190403\n",
              "12427  20190331    중앙선  1218   원덕     492     483  20190403\n",
              "12428  20190331  우이신설선  4704  가오리    2538    2424  20190403"
            ]
          },
          "metadata": {
            "tags": []
          },
          "execution_count": 11
        }
      ]
    },
    {
      "cell_type": "code",
      "metadata": {
        "colab": {
          "base_uri": "https://localhost:8080/"
        },
        "id": "j8bGt5eEKN1r",
        "outputId": "f3b4f91b-f761-4cc1-f299-7fe2ebcc9c73"
      },
      "source": [
        "raw.info()\n",
        "# 위에처럼 자료들을 합치게 되면 index번호가 새로 부여되는게 아니라\n",
        "# 원래 파일에 들어있던 인덱스 번호를 그대로 사용하게 됨\n",
        "# 그래서 info에 행이 99342개로 나와도, tail에선 18333이 마지막 숫자야\n",
        "# 결론적으로는 합치고 인덱스 번호 새로 부여(reset)하자!!"
      ],
      "execution_count": 12,
      "outputs": [
        {
          "output_type": "stream",
          "text": [
            "<class 'pandas.core.frame.DataFrame'>\n",
            "Int64Index: 99342 entries, 0 to 12428\n",
            "Data columns (total 7 columns):\n",
            " #   Column  Non-Null Count  Dtype \n",
            "---  ------  --------------  ----- \n",
            " 0   사용일자    99342 non-null  int64 \n",
            " 1   노선명     99342 non-null  object\n",
            " 2   역ID     99342 non-null  int64 \n",
            " 3   역명      99342 non-null  object\n",
            " 4   승차총승객수  99342 non-null  int64 \n",
            " 5   하차총승객수  99342 non-null  int64 \n",
            " 6   등록일자    99342 non-null  int64 \n",
            "dtypes: int64(5), object(2)\n",
            "memory usage: 6.1+ MB\n"
          ],
          "name": "stdout"
        }
      ]
    },
    {
      "cell_type": "code",
      "metadata": {
        "colab": {
          "base_uri": "https://localhost:8080/",
          "height": 206
        },
        "id": "QjxFUWmQ2M4u",
        "outputId": "fcf68e78-43b1-4ced-9bfa-4e731b21eace"
      },
      "source": [
        "raw = raw.reset_index(drop = True) # 기존 인덱스 초기화는 drop으로 버려줌\n",
        "raw.tail()\n",
        "# 함수 명령어 / 옵션 살펴보기 -> shift + tab"
      ],
      "execution_count": 13,
      "outputs": [
        {
          "output_type": "execute_result",
          "data": {
            "text/html": [
              "<div>\n",
              "<style scoped>\n",
              "    .dataframe tbody tr th:only-of-type {\n",
              "        vertical-align: middle;\n",
              "    }\n",
              "\n",
              "    .dataframe tbody tr th {\n",
              "        vertical-align: top;\n",
              "    }\n",
              "\n",
              "    .dataframe thead th {\n",
              "        text-align: right;\n",
              "    }\n",
              "</style>\n",
              "<table border=\"1\" class=\"dataframe\">\n",
              "  <thead>\n",
              "    <tr style=\"text-align: right;\">\n",
              "      <th></th>\n",
              "      <th>사용일자</th>\n",
              "      <th>노선명</th>\n",
              "      <th>역ID</th>\n",
              "      <th>역명</th>\n",
              "      <th>승차총승객수</th>\n",
              "      <th>하차총승객수</th>\n",
              "      <th>등록일자</th>\n",
              "    </tr>\n",
              "  </thead>\n",
              "  <tbody>\n",
              "    <tr>\n",
              "      <th>99337</th>\n",
              "      <td>20190331</td>\n",
              "      <td>중앙선</td>\n",
              "      <td>1215</td>\n",
              "      <td>아신</td>\n",
              "      <td>618</td>\n",
              "      <td>564</td>\n",
              "      <td>20190403</td>\n",
              "    </tr>\n",
              "    <tr>\n",
              "      <th>99338</th>\n",
              "      <td>20190331</td>\n",
              "      <td>중앙선</td>\n",
              "      <td>1216</td>\n",
              "      <td>오빈</td>\n",
              "      <td>292</td>\n",
              "      <td>264</td>\n",
              "      <td>20190403</td>\n",
              "    </tr>\n",
              "    <tr>\n",
              "      <th>99339</th>\n",
              "      <td>20190331</td>\n",
              "      <td>중앙선</td>\n",
              "      <td>1217</td>\n",
              "      <td>양평</td>\n",
              "      <td>2907</td>\n",
              "      <td>2644</td>\n",
              "      <td>20190403</td>\n",
              "    </tr>\n",
              "    <tr>\n",
              "      <th>99340</th>\n",
              "      <td>20190331</td>\n",
              "      <td>중앙선</td>\n",
              "      <td>1218</td>\n",
              "      <td>원덕</td>\n",
              "      <td>492</td>\n",
              "      <td>483</td>\n",
              "      <td>20190403</td>\n",
              "    </tr>\n",
              "    <tr>\n",
              "      <th>99341</th>\n",
              "      <td>20190331</td>\n",
              "      <td>우이신설선</td>\n",
              "      <td>4704</td>\n",
              "      <td>가오리</td>\n",
              "      <td>2538</td>\n",
              "      <td>2424</td>\n",
              "      <td>20190403</td>\n",
              "    </tr>\n",
              "  </tbody>\n",
              "</table>\n",
              "</div>"
            ],
            "text/plain": [
              "           사용일자    노선명   역ID   역명  승차총승객수  하차총승객수      등록일자\n",
              "99337  20190331    중앙선  1215   아신     618     564  20190403\n",
              "99338  20190331    중앙선  1216   오빈     292     264  20190403\n",
              "99339  20190331    중앙선  1217   양평    2907    2644  20190403\n",
              "99340  20190331    중앙선  1218   원덕     492     483  20190403\n",
              "99341  20190331  우이신설선  4704  가오리    2538    2424  20190403"
            ]
          },
          "metadata": {
            "tags": []
          },
          "execution_count": 13
        }
      ]
    },
    {
      "cell_type": "markdown",
      "metadata": {
        "id": "NpYd7xdP4Ws7"
      },
      "source": [
        "## Q. 요일을 추가해보자!"
      ]
    },
    {
      "cell_type": "code",
      "metadata": {
        "id": "geKDihtl3aKW"
      },
      "source": [
        "#일시를 관리하는 datetime 라이브러리를 불러오기\n",
        "\n",
        "from datetime import datetime\n"
      ],
      "execution_count": 14,
      "outputs": []
    },
    {
      "cell_type": "markdown",
      "metadata": {
        "id": "7q4G0kEG46ys"
      },
      "source": [
        "datetime.strptime('날짜str', `str형태`)  : 문자 --> 날짜 타입\n",
        "\n",
        "- `str형태` %Y-%m-%d %H:%M:%S\n",
        "    - %Y : 연도(4자리)\n",
        "    - %m:  월(2자리)\n",
        "    - %d:  일자(2자리)\n",
        "    \n",
        "    - %H : 시간\n",
        "    - %M : 분\n",
        "    - %S : 초"
      ]
    },
    {
      "cell_type": "code",
      "metadata": {
        "colab": {
          "base_uri": "https://localhost:8080/"
        },
        "id": "oxSd3AuH4ypU",
        "outputId": "317372cf-b39d-449c-e43e-507506c37c82"
      },
      "source": [
        "# datetime.strptime()을 이용해 str타입을 날짜 타입으로 변경\n",
        "# dtaetime.strptime('날짜str', 형태)\n",
        "# 숫자가 아닌 문자로 입력되어야 합니다. <<<---@@이부분 핵중요\n",
        "# ex)\n",
        "\n",
        "s = '2019-01-05'\n",
        "datetime.strptime(s, \"%Y-%m-%d\")#d이후에 시 분 초 추가 가능\n",
        "# 민테 2019는 년, 1=월, 5=날, 0=시, 0=분 을 뜻함"
      ],
      "execution_count": 15,
      "outputs": [
        {
          "output_type": "execute_result",
          "data": {
            "text/plain": [
              "datetime.datetime(2019, 1, 5, 0, 0)"
            ]
          },
          "metadata": {
            "tags": []
          },
          "execution_count": 15
        }
      ]
    },
    {
      "cell_type": "code",
      "metadata": {
        "colab": {
          "base_uri": "https://localhost:8080/"
        },
        "id": "r0eYaVeM6nqv",
        "outputId": "106ff0ec-0021-48b5-e9e6-4d9ef90b0fd1"
      },
      "source": [
        "# 날짜 타입을 요일로 변경하기 위해서는 weekday() 를 사용합니다. \n",
        "# 월요일 : 0 ~ 일요일 : 6\n",
        "\n",
        "s = '20190629'\n",
        "date = datetime.strptime(s, '%Y%m%d')\n",
        "date\n",
        "\n",
        "weekday_dict = ['월', '화', '수', '목', '금', '토', '일']\n",
        "weekday_index = date.weekday()\n",
        "print(weekday_index)\n",
        "print(weekday_dict[weekday_index])"
      ],
      "execution_count": 16,
      "outputs": [
        {
          "output_type": "stream",
          "text": [
            "5\n",
            "토\n"
          ],
          "name": "stdout"
        }
      ]
    },
    {
      "cell_type": "code",
      "metadata": {
        "colab": {
          "base_uri": "https://localhost:8080/",
          "height": 206
        },
        "id": "GgVONKvg9Nzc",
        "outputId": "44c591f4-d31c-46d7-9a19-2078429aef1e"
      },
      "source": [
        "# 날짜 컬럼을 불러와서, 순서대로 요일을 정리하여 리스트에 저장\n",
        "\n",
        "raw.head()"
      ],
      "execution_count": 17,
      "outputs": [
        {
          "output_type": "execute_result",
          "data": {
            "text/html": [
              "<div>\n",
              "<style scoped>\n",
              "    .dataframe tbody tr th:only-of-type {\n",
              "        vertical-align: middle;\n",
              "    }\n",
              "\n",
              "    .dataframe tbody tr th {\n",
              "        vertical-align: top;\n",
              "    }\n",
              "\n",
              "    .dataframe thead th {\n",
              "        text-align: right;\n",
              "    }\n",
              "</style>\n",
              "<table border=\"1\" class=\"dataframe\">\n",
              "  <thead>\n",
              "    <tr style=\"text-align: right;\">\n",
              "      <th></th>\n",
              "      <th>사용일자</th>\n",
              "      <th>노선명</th>\n",
              "      <th>역ID</th>\n",
              "      <th>역명</th>\n",
              "      <th>승차총승객수</th>\n",
              "      <th>하차총승객수</th>\n",
              "      <th>등록일자</th>\n",
              "    </tr>\n",
              "  </thead>\n",
              "  <tbody>\n",
              "    <tr>\n",
              "      <th>0</th>\n",
              "      <td>20190201</td>\n",
              "      <td>중앙선</td>\n",
              "      <td>1213</td>\n",
              "      <td>신원</td>\n",
              "      <td>186</td>\n",
              "      <td>164</td>\n",
              "      <td>20190204</td>\n",
              "    </tr>\n",
              "    <tr>\n",
              "      <th>1</th>\n",
              "      <td>20190201</td>\n",
              "      <td>중앙선</td>\n",
              "      <td>1214</td>\n",
              "      <td>국수</td>\n",
              "      <td>668</td>\n",
              "      <td>669</td>\n",
              "      <td>20190204</td>\n",
              "    </tr>\n",
              "    <tr>\n",
              "      <th>2</th>\n",
              "      <td>20190201</td>\n",
              "      <td>중앙선</td>\n",
              "      <td>1215</td>\n",
              "      <td>아신</td>\n",
              "      <td>556</td>\n",
              "      <td>571</td>\n",
              "      <td>20190204</td>\n",
              "    </tr>\n",
              "    <tr>\n",
              "      <th>3</th>\n",
              "      <td>20190201</td>\n",
              "      <td>중앙선</td>\n",
              "      <td>1216</td>\n",
              "      <td>오빈</td>\n",
              "      <td>300</td>\n",
              "      <td>307</td>\n",
              "      <td>20190204</td>\n",
              "    </tr>\n",
              "    <tr>\n",
              "      <th>4</th>\n",
              "      <td>20190201</td>\n",
              "      <td>중앙선</td>\n",
              "      <td>1217</td>\n",
              "      <td>양평</td>\n",
              "      <td>2975</td>\n",
              "      <td>3236</td>\n",
              "      <td>20190204</td>\n",
              "    </tr>\n",
              "  </tbody>\n",
              "</table>\n",
              "</div>"
            ],
            "text/plain": [
              "       사용일자  노선명   역ID  역명  승차총승객수  하차총승객수      등록일자\n",
              "0  20190201  중앙선  1213  신원     186     164  20190204\n",
              "1  20190201  중앙선  1214  국수     668     669  20190204\n",
              "2  20190201  중앙선  1215  아신     556     571  20190204\n",
              "3  20190201  중앙선  1216  오빈     300     307  20190204\n",
              "4  20190201  중앙선  1217  양평    2975    3236  20190204"
            ]
          },
          "metadata": {
            "tags": []
          },
          "execution_count": 17
        }
      ]
    },
    {
      "cell_type": "code",
      "metadata": {
        "colab": {
          "base_uri": "https://localhost:8080/"
        },
        "id": "ArNXzMCcOA8x",
        "outputId": "a648d432-0ec5-4bc6-8643-73387e1988d7"
      },
      "source": [
        "raw.info()\n",
        "# 위에서도 말했지만 str사용하려면 숫자가(int형)이 아닌 문자형으로\n",
        "# 작성되어야 한다 이말이야~~"
      ],
      "execution_count": 18,
      "outputs": [
        {
          "output_type": "stream",
          "text": [
            "<class 'pandas.core.frame.DataFrame'>\n",
            "RangeIndex: 99342 entries, 0 to 99341\n",
            "Data columns (total 7 columns):\n",
            " #   Column  Non-Null Count  Dtype \n",
            "---  ------  --------------  ----- \n",
            " 0   사용일자    99342 non-null  int64 \n",
            " 1   노선명     99342 non-null  object\n",
            " 2   역ID     99342 non-null  int64 \n",
            " 3   역명      99342 non-null  object\n",
            " 4   승차총승객수  99342 non-null  int64 \n",
            " 5   하차총승객수  99342 non-null  int64 \n",
            " 6   등록일자    99342 non-null  int64 \n",
            "dtypes: int64(5), object(2)\n",
            "memory usage: 5.3+ MB\n"
          ],
          "name": "stdout"
        }
      ]
    },
    {
      "cell_type": "code",
      "metadata": {
        "id": "mWoi4-D8MC_k"
      },
      "source": [
        "# 날짜 컬럼을 불러와서, 순서대로 요일을 점검하여 리스트에 저장하겠다.\n",
        "\n",
        "weekday_dict = ['월', '화', '수', '목', '금', '토', '일']\n",
        "weekday_list = [ ]\n",
        "\n",
        "for date_str in raw['사용일자']:\n",
        "\n",
        "# print(type(date_str))    밑에 str함수가 바꿔줌\n",
        "\n",
        "  date = datetime.strptime(str(date_str), \"%Y%m%d\")\n",
        "  weekday_index = date.weekday()\n",
        "  weekday = weekday_dict[weekday_index]\n",
        "\n",
        "  weekday_list.append(weekday)"
      ],
      "execution_count": 19,
      "outputs": []
    },
    {
      "cell_type": "code",
      "metadata": {
        "colab": {
          "base_uri": "https://localhost:8080/",
          "height": 206
        },
        "id": "y-VvTRbZMai0",
        "outputId": "511eca7d-9eef-4947-ed84-aec8ce272fb3"
      },
      "source": [
        "# 요일정보가 저장된 리스트를 컬럼에 추가\n",
        "\n",
        "raw['요일'] = weekday_list\n",
        "\n",
        "raw.head()"
      ],
      "execution_count": 20,
      "outputs": [
        {
          "output_type": "execute_result",
          "data": {
            "text/html": [
              "<div>\n",
              "<style scoped>\n",
              "    .dataframe tbody tr th:only-of-type {\n",
              "        vertical-align: middle;\n",
              "    }\n",
              "\n",
              "    .dataframe tbody tr th {\n",
              "        vertical-align: top;\n",
              "    }\n",
              "\n",
              "    .dataframe thead th {\n",
              "        text-align: right;\n",
              "    }\n",
              "</style>\n",
              "<table border=\"1\" class=\"dataframe\">\n",
              "  <thead>\n",
              "    <tr style=\"text-align: right;\">\n",
              "      <th></th>\n",
              "      <th>사용일자</th>\n",
              "      <th>노선명</th>\n",
              "      <th>역ID</th>\n",
              "      <th>역명</th>\n",
              "      <th>승차총승객수</th>\n",
              "      <th>하차총승객수</th>\n",
              "      <th>등록일자</th>\n",
              "      <th>요일</th>\n",
              "    </tr>\n",
              "  </thead>\n",
              "  <tbody>\n",
              "    <tr>\n",
              "      <th>0</th>\n",
              "      <td>20190201</td>\n",
              "      <td>중앙선</td>\n",
              "      <td>1213</td>\n",
              "      <td>신원</td>\n",
              "      <td>186</td>\n",
              "      <td>164</td>\n",
              "      <td>20190204</td>\n",
              "      <td>금</td>\n",
              "    </tr>\n",
              "    <tr>\n",
              "      <th>1</th>\n",
              "      <td>20190201</td>\n",
              "      <td>중앙선</td>\n",
              "      <td>1214</td>\n",
              "      <td>국수</td>\n",
              "      <td>668</td>\n",
              "      <td>669</td>\n",
              "      <td>20190204</td>\n",
              "      <td>금</td>\n",
              "    </tr>\n",
              "    <tr>\n",
              "      <th>2</th>\n",
              "      <td>20190201</td>\n",
              "      <td>중앙선</td>\n",
              "      <td>1215</td>\n",
              "      <td>아신</td>\n",
              "      <td>556</td>\n",
              "      <td>571</td>\n",
              "      <td>20190204</td>\n",
              "      <td>금</td>\n",
              "    </tr>\n",
              "    <tr>\n",
              "      <th>3</th>\n",
              "      <td>20190201</td>\n",
              "      <td>중앙선</td>\n",
              "      <td>1216</td>\n",
              "      <td>오빈</td>\n",
              "      <td>300</td>\n",
              "      <td>307</td>\n",
              "      <td>20190204</td>\n",
              "      <td>금</td>\n",
              "    </tr>\n",
              "    <tr>\n",
              "      <th>4</th>\n",
              "      <td>20190201</td>\n",
              "      <td>중앙선</td>\n",
              "      <td>1217</td>\n",
              "      <td>양평</td>\n",
              "      <td>2975</td>\n",
              "      <td>3236</td>\n",
              "      <td>20190204</td>\n",
              "      <td>금</td>\n",
              "    </tr>\n",
              "  </tbody>\n",
              "</table>\n",
              "</div>"
            ],
            "text/plain": [
              "       사용일자  노선명   역ID  역명  승차총승객수  하차총승객수      등록일자 요일\n",
              "0  20190201  중앙선  1213  신원     186     164  20190204  금\n",
              "1  20190201  중앙선  1214  국수     668     669  20190204  금\n",
              "2  20190201  중앙선  1215  아신     556     571  20190204  금\n",
              "3  20190201  중앙선  1216  오빈     300     307  20190204  금\n",
              "4  20190201  중앙선  1217  양평    2975    3236  20190204  금"
            ]
          },
          "metadata": {
            "tags": []
          },
          "execution_count": 20
        }
      ]
    },
    {
      "cell_type": "code",
      "metadata": {
        "colab": {
          "base_uri": "https://localhost:8080/",
          "height": 362
        },
        "id": "8a8u0ggVP0fi",
        "outputId": "70d09714-69c3-49c8-b8eb-7dcc31f13c9f"
      },
      "source": [
        "# .head()와 .tail() 사이의 임의의 샘플을 보고 싶을때\n",
        "raw.sample(10)"
      ],
      "execution_count": 21,
      "outputs": [
        {
          "output_type": "execute_result",
          "data": {
            "text/html": [
              "<div>\n",
              "<style scoped>\n",
              "    .dataframe tbody tr th:only-of-type {\n",
              "        vertical-align: middle;\n",
              "    }\n",
              "\n",
              "    .dataframe tbody tr th {\n",
              "        vertical-align: top;\n",
              "    }\n",
              "\n",
              "    .dataframe thead th {\n",
              "        text-align: right;\n",
              "    }\n",
              "</style>\n",
              "<table border=\"1\" class=\"dataframe\">\n",
              "  <thead>\n",
              "    <tr style=\"text-align: right;\">\n",
              "      <th></th>\n",
              "      <th>사용일자</th>\n",
              "      <th>노선명</th>\n",
              "      <th>역ID</th>\n",
              "      <th>역명</th>\n",
              "      <th>승차총승객수</th>\n",
              "      <th>하차총승객수</th>\n",
              "      <th>등록일자</th>\n",
              "      <th>요일</th>\n",
              "    </tr>\n",
              "  </thead>\n",
              "  <tbody>\n",
              "    <tr>\n",
              "      <th>52622</th>\n",
              "      <td>20190401</td>\n",
              "      <td>경강선</td>\n",
              "      <td>1503</td>\n",
              "      <td>삼동</td>\n",
              "      <td>2513</td>\n",
              "      <td>2192</td>\n",
              "      <td>20190404</td>\n",
              "      <td>월</td>\n",
              "    </tr>\n",
              "    <tr>\n",
              "      <th>23945</th>\n",
              "      <td>20190113</td>\n",
              "      <td>3호선</td>\n",
              "      <td>312</td>\n",
              "      <td>불광</td>\n",
              "      <td>12540</td>\n",
              "      <td>14222</td>\n",
              "      <td>20190116</td>\n",
              "      <td>일</td>\n",
              "    </tr>\n",
              "    <tr>\n",
              "      <th>63920</th>\n",
              "      <td>20190421</td>\n",
              "      <td>7호선</td>\n",
              "      <td>2735</td>\n",
              "      <td>반포</td>\n",
              "      <td>3904</td>\n",
              "      <td>3958</td>\n",
              "      <td>20190424</td>\n",
              "      <td>일</td>\n",
              "    </tr>\n",
              "    <tr>\n",
              "      <th>48331</th>\n",
              "      <td>20190623</td>\n",
              "      <td>3호선</td>\n",
              "      <td>326</td>\n",
              "      <td>압구정</td>\n",
              "      <td>18444</td>\n",
              "      <td>19295</td>\n",
              "      <td>20190626</td>\n",
              "      <td>일</td>\n",
              "    </tr>\n",
              "    <tr>\n",
              "      <th>60415</th>\n",
              "      <td>20190414</td>\n",
              "      <td>4호선</td>\n",
              "      <td>434</td>\n",
              "      <td>남태령</td>\n",
              "      <td>1052</td>\n",
              "      <td>772</td>\n",
              "      <td>20190417</td>\n",
              "      <td>일</td>\n",
              "    </tr>\n",
              "    <tr>\n",
              "      <th>49485</th>\n",
              "      <td>20190625</td>\n",
              "      <td>4호선</td>\n",
              "      <td>419</td>\n",
              "      <td>한성대입구(삼선교)</td>\n",
              "      <td>17585</td>\n",
              "      <td>16633</td>\n",
              "      <td>20190628</td>\n",
              "      <td>화</td>\n",
              "    </tr>\n",
              "    <tr>\n",
              "      <th>57984</th>\n",
              "      <td>20190410</td>\n",
              "      <td>분당선</td>\n",
              "      <td>1857</td>\n",
              "      <td>정자</td>\n",
              "      <td>20223</td>\n",
              "      <td>21742</td>\n",
              "      <td>20190413</td>\n",
              "      <td>수</td>\n",
              "    </tr>\n",
              "    <tr>\n",
              "      <th>4836</th>\n",
              "      <td>20190209</td>\n",
              "      <td>3호선</td>\n",
              "      <td>315</td>\n",
              "      <td>무악재</td>\n",
              "      <td>3036</td>\n",
              "      <td>3104</td>\n",
              "      <td>20190212</td>\n",
              "      <td>토</td>\n",
              "    </tr>\n",
              "    <tr>\n",
              "      <th>38694</th>\n",
              "      <td>20190607</td>\n",
              "      <td>경강선</td>\n",
              "      <td>1505</td>\n",
              "      <td>초월</td>\n",
              "      <td>2672</td>\n",
              "      <td>2558</td>\n",
              "      <td>20190610</td>\n",
              "      <td>금</td>\n",
              "    </tr>\n",
              "    <tr>\n",
              "      <th>97075</th>\n",
              "      <td>20190328</td>\n",
              "      <td>분당선</td>\n",
              "      <td>1850</td>\n",
              "      <td>선정릉</td>\n",
              "      <td>9500</td>\n",
              "      <td>10509</td>\n",
              "      <td>20190331</td>\n",
              "      <td>목</td>\n",
              "    </tr>\n",
              "  </tbody>\n",
              "</table>\n",
              "</div>"
            ],
            "text/plain": [
              "           사용일자  노선명   역ID          역명  승차총승객수  하차총승객수      등록일자 요일\n",
              "52622  20190401  경강선  1503          삼동    2513    2192  20190404  월\n",
              "23945  20190113  3호선   312          불광   12540   14222  20190116  일\n",
              "63920  20190421  7호선  2735          반포    3904    3958  20190424  일\n",
              "48331  20190623  3호선   326         압구정   18444   19295  20190626  일\n",
              "60415  20190414  4호선   434         남태령    1052     772  20190417  일\n",
              "49485  20190625  4호선   419  한성대입구(삼선교)   17585   16633  20190628  화\n",
              "57984  20190410  분당선  1857          정자   20223   21742  20190413  수\n",
              "4836   20190209  3호선   315         무악재    3036    3104  20190212  토\n",
              "38694  20190607  경강선  1505          초월    2672    2558  20190610  금\n",
              "97075  20190328  분당선  1850         선정릉    9500   10509  20190331  목"
            ]
          },
          "metadata": {
            "tags": []
          },
          "execution_count": 21
        }
      ]
    },
    {
      "cell_type": "code",
      "metadata": {
        "colab": {
          "base_uri": "https://localhost:8080/"
        },
        "id": "l7hwQommQGYb",
        "outputId": "9cf720ab-dd5a-4e6a-c08d-d9f1fc54edd0"
      },
      "source": [
        "# 컬럼 순서변경하기 : 사용일자 뒤로 요일이 나오게 변경\n",
        "\n",
        "# 현재 컬럼명 확인\n",
        "raw.columns"
      ],
      "execution_count": 22,
      "outputs": [
        {
          "output_type": "execute_result",
          "data": {
            "text/plain": [
              "Index(['사용일자', '노선명', '역ID', '역명', '승차총승객수', '하차총승객수', '등록일자', '요일'], dtype='object')"
            ]
          },
          "metadata": {
            "tags": []
          },
          "execution_count": 22
        }
      ]
    },
    {
      "cell_type": "code",
      "metadata": {
        "id": "R3ozdHGhQiiJ"
      },
      "source": [
        "# 현재 컬럼명 복사해서 원하는 순서대로 조정하기\n",
        "\n",
        "raw = raw[['사용일자', '요일', '노선명', '역ID', '역명', '승차총승객수', '하차총승객수', '등록일자']]"
      ],
      "execution_count": 23,
      "outputs": []
    },
    {
      "cell_type": "markdown",
      "metadata": {
        "id": "d7NEN7uMRHOC"
      },
      "source": [
        "## 정리한 데이터 저장하기"
      ]
    },
    {
      "cell_type": "code",
      "metadata": {
        "id": "BeNwTULCQ2ED"
      },
      "source": [
        "# 주피터에서 작업한 결과를 data 폴더에 저장하겠습니다. \n",
        "# raw.to_excel('./data/subway_raw.xlsx', index = False)\n",
        "\n",
        "# 코랩에서 작업한 결과 저장하기\n",
        "raw.to_excel('/home/1234.xlsx')"
      ],
      "execution_count": 24,
      "outputs": []
    },
    {
      "cell_type": "markdown",
      "metadata": {
        "id": "-VcBd6V_xVXB"
      },
      "source": [
        "##Q) 언제 지하철을 가장 많이 이용할까?"
      ]
    },
    {
      "cell_type": "code",
      "metadata": {
        "colab": {
          "base_uri": "https://localhost:8080/",
          "height": 204
        },
        "id": "3fFa-6DGxaOI",
        "outputId": "7020b4e4-34e7-4ae2-88af-7b3034514278"
      },
      "source": [
        "# 필요한 라이브러리 불러오기\n",
        "import pandas as pd\n",
        "raw.head()"
      ],
      "execution_count": 25,
      "outputs": [
        {
          "output_type": "execute_result",
          "data": {
            "text/html": [
              "<div>\n",
              "<style scoped>\n",
              "    .dataframe tbody tr th:only-of-type {\n",
              "        vertical-align: middle;\n",
              "    }\n",
              "\n",
              "    .dataframe tbody tr th {\n",
              "        vertical-align: top;\n",
              "    }\n",
              "\n",
              "    .dataframe thead th {\n",
              "        text-align: right;\n",
              "    }\n",
              "</style>\n",
              "<table border=\"1\" class=\"dataframe\">\n",
              "  <thead>\n",
              "    <tr style=\"text-align: right;\">\n",
              "      <th></th>\n",
              "      <th>사용일자</th>\n",
              "      <th>요일</th>\n",
              "      <th>노선명</th>\n",
              "      <th>역ID</th>\n",
              "      <th>역명</th>\n",
              "      <th>승차총승객수</th>\n",
              "      <th>하차총승객수</th>\n",
              "      <th>등록일자</th>\n",
              "    </tr>\n",
              "  </thead>\n",
              "  <tbody>\n",
              "    <tr>\n",
              "      <th>0</th>\n",
              "      <td>20190201</td>\n",
              "      <td>금</td>\n",
              "      <td>중앙선</td>\n",
              "      <td>1213</td>\n",
              "      <td>신원</td>\n",
              "      <td>186</td>\n",
              "      <td>164</td>\n",
              "      <td>20190204</td>\n",
              "    </tr>\n",
              "    <tr>\n",
              "      <th>1</th>\n",
              "      <td>20190201</td>\n",
              "      <td>금</td>\n",
              "      <td>중앙선</td>\n",
              "      <td>1214</td>\n",
              "      <td>국수</td>\n",
              "      <td>668</td>\n",
              "      <td>669</td>\n",
              "      <td>20190204</td>\n",
              "    </tr>\n",
              "    <tr>\n",
              "      <th>2</th>\n",
              "      <td>20190201</td>\n",
              "      <td>금</td>\n",
              "      <td>중앙선</td>\n",
              "      <td>1215</td>\n",
              "      <td>아신</td>\n",
              "      <td>556</td>\n",
              "      <td>571</td>\n",
              "      <td>20190204</td>\n",
              "    </tr>\n",
              "    <tr>\n",
              "      <th>3</th>\n",
              "      <td>20190201</td>\n",
              "      <td>금</td>\n",
              "      <td>중앙선</td>\n",
              "      <td>1216</td>\n",
              "      <td>오빈</td>\n",
              "      <td>300</td>\n",
              "      <td>307</td>\n",
              "      <td>20190204</td>\n",
              "    </tr>\n",
              "    <tr>\n",
              "      <th>4</th>\n",
              "      <td>20190201</td>\n",
              "      <td>금</td>\n",
              "      <td>중앙선</td>\n",
              "      <td>1217</td>\n",
              "      <td>양평</td>\n",
              "      <td>2975</td>\n",
              "      <td>3236</td>\n",
              "      <td>20190204</td>\n",
              "    </tr>\n",
              "  </tbody>\n",
              "</table>\n",
              "</div>"
            ],
            "text/plain": [
              "       사용일자 요일  노선명   역ID  역명  승차총승객수  하차총승객수      등록일자\n",
              "0  20190201  금  중앙선  1213  신원     186     164  20190204\n",
              "1  20190201  금  중앙선  1214  국수     668     669  20190204\n",
              "2  20190201  금  중앙선  1215  아신     556     571  20190204\n",
              "3  20190201  금  중앙선  1216  오빈     300     307  20190204\n",
              "4  20190201  금  중앙선  1217  양평    2975    3236  20190204"
            ]
          },
          "metadata": {
            "tags": []
          },
          "execution_count": 25
        }
      ]
    },
    {
      "cell_type": "code",
      "metadata": {
        "colab": {
          "base_uri": "https://localhost:8080/"
        },
        "id": "gCgvLQa9xeBm",
        "outputId": "193f9c20-0306-4a61-8d66-15075d3e6915"
      },
      "source": [
        "raw.info()\n",
        "#데이터 불러오고나서 컬럼과 행의 갯수는 몇개인지 비어있는 값(non-null)의 개수는 같은가\n",
        "#데이터 타입은 어떻게 설정되어 있는지 확인하는 습관 기르기"
      ],
      "execution_count": 26,
      "outputs": [
        {
          "output_type": "stream",
          "text": [
            "<class 'pandas.core.frame.DataFrame'>\n",
            "RangeIndex: 99342 entries, 0 to 99341\n",
            "Data columns (total 8 columns):\n",
            " #   Column  Non-Null Count  Dtype \n",
            "---  ------  --------------  ----- \n",
            " 0   사용일자    99342 non-null  int64 \n",
            " 1   요일      99342 non-null  object\n",
            " 2   노선명     99342 non-null  object\n",
            " 3   역ID     99342 non-null  int64 \n",
            " 4   역명      99342 non-null  object\n",
            " 5   승차총승객수  99342 non-null  int64 \n",
            " 6   하차총승객수  99342 non-null  int64 \n",
            " 7   등록일자    99342 non-null  int64 \n",
            "dtypes: int64(5), object(3)\n",
            "memory usage: 6.1+ MB\n"
          ],
          "name": "stdout"
        }
      ]
    },
    {
      "cell_type": "markdown",
      "metadata": {
        "id": "kz8QuX6syq-_"
      },
      "source": [
        "## Q) 가장 승객이 많은 날짜?"
      ]
    },
    {
      "cell_type": "code",
      "metadata": {
        "colab": {
          "base_uri": "https://localhost:8080/",
          "height": 237
        },
        "id": "wuYolc9eyGY8",
        "outputId": "9f8c9031-f894-4362-b95f-bc51fc5561f0"
      },
      "source": [
        "# pivot_table을 이용해 사용일자/요일별 승차승객수 합계 데이터 정리\n",
        "# index = [사용일자, 요일] values = 승차총승객수\n",
        "\n",
        "data_date = raw.pivot_table(index = ['사용일자','요일'], values = '승차총승객수', aggfunc='sum')\n",
        "data_date.head()"
      ],
      "execution_count": 27,
      "outputs": [
        {
          "output_type": "execute_result",
          "data": {
            "text/html": [
              "<div>\n",
              "<style scoped>\n",
              "    .dataframe tbody tr th:only-of-type {\n",
              "        vertical-align: middle;\n",
              "    }\n",
              "\n",
              "    .dataframe tbody tr th {\n",
              "        vertical-align: top;\n",
              "    }\n",
              "\n",
              "    .dataframe thead th {\n",
              "        text-align: right;\n",
              "    }\n",
              "</style>\n",
              "<table border=\"1\" class=\"dataframe\">\n",
              "  <thead>\n",
              "    <tr style=\"text-align: right;\">\n",
              "      <th></th>\n",
              "      <th></th>\n",
              "      <th>승차총승객수</th>\n",
              "    </tr>\n",
              "    <tr>\n",
              "      <th>사용일자</th>\n",
              "      <th>요일</th>\n",
              "      <th></th>\n",
              "    </tr>\n",
              "  </thead>\n",
              "  <tbody>\n",
              "    <tr>\n",
              "      <th>20190101</th>\n",
              "      <th>화</th>\n",
              "      <td>3419948</td>\n",
              "    </tr>\n",
              "    <tr>\n",
              "      <th>20190102</th>\n",
              "      <th>수</th>\n",
              "      <td>7621668</td>\n",
              "    </tr>\n",
              "    <tr>\n",
              "      <th>20190103</th>\n",
              "      <th>목</th>\n",
              "      <td>7873692</td>\n",
              "    </tr>\n",
              "    <tr>\n",
              "      <th>20190104</th>\n",
              "      <th>금</th>\n",
              "      <td>8270345</td>\n",
              "    </tr>\n",
              "    <tr>\n",
              "      <th>20190105</th>\n",
              "      <th>토</th>\n",
              "      <td>6062294</td>\n",
              "    </tr>\n",
              "  </tbody>\n",
              "</table>\n",
              "</div>"
            ],
            "text/plain": [
              "              승차총승객수\n",
              "사용일자     요일         \n",
              "20190101 화   3419948\n",
              "20190102 수   7621668\n",
              "20190103 목   7873692\n",
              "20190104 금   8270345\n",
              "20190105 토   6062294"
            ]
          },
          "metadata": {
            "tags": []
          },
          "execution_count": 27
        }
      ]
    },
    {
      "cell_type": "code",
      "metadata": {
        "colab": {
          "base_uri": "https://localhost:8080/",
          "height": 454
        },
        "id": "3v2IsCOwzXPx",
        "outputId": "c7fb1856-1fac-49cc-b0c6-71598da0c169"
      },
      "source": [
        "# sort_values()를 이용해 승객수 기준 정렬한다\n",
        "\n",
        "data_date.sort_values(by = '승차총승객수', ascending= False)"
      ],
      "execution_count": 28,
      "outputs": [
        {
          "output_type": "execute_result",
          "data": {
            "text/html": [
              "<div>\n",
              "<style scoped>\n",
              "    .dataframe tbody tr th:only-of-type {\n",
              "        vertical-align: middle;\n",
              "    }\n",
              "\n",
              "    .dataframe tbody tr th {\n",
              "        vertical-align: top;\n",
              "    }\n",
              "\n",
              "    .dataframe thead th {\n",
              "        text-align: right;\n",
              "    }\n",
              "</style>\n",
              "<table border=\"1\" class=\"dataframe\">\n",
              "  <thead>\n",
              "    <tr style=\"text-align: right;\">\n",
              "      <th></th>\n",
              "      <th></th>\n",
              "      <th>승차총승객수</th>\n",
              "    </tr>\n",
              "    <tr>\n",
              "      <th>사용일자</th>\n",
              "      <th>요일</th>\n",
              "      <th></th>\n",
              "    </tr>\n",
              "  </thead>\n",
              "  <tbody>\n",
              "    <tr>\n",
              "      <th>20190503</th>\n",
              "      <th>금</th>\n",
              "      <td>9229899</td>\n",
              "    </tr>\n",
              "    <tr>\n",
              "      <th>20190510</th>\n",
              "      <th>금</th>\n",
              "      <td>9164243</td>\n",
              "    </tr>\n",
              "    <tr>\n",
              "      <th>20190524</th>\n",
              "      <th>금</th>\n",
              "      <td>9068976</td>\n",
              "    </tr>\n",
              "    <tr>\n",
              "      <th>20190517</th>\n",
              "      <th>금</th>\n",
              "      <td>9058227</td>\n",
              "    </tr>\n",
              "    <tr>\n",
              "      <th>20190412</th>\n",
              "      <th>금</th>\n",
              "      <td>9012472</td>\n",
              "    </tr>\n",
              "    <tr>\n",
              "      <th>...</th>\n",
              "      <th>...</th>\n",
              "      <td>...</td>\n",
              "    </tr>\n",
              "    <tr>\n",
              "      <th>20190206</th>\n",
              "      <th>수</th>\n",
              "      <td>3741895</td>\n",
              "    </tr>\n",
              "    <tr>\n",
              "      <th>20190101</th>\n",
              "      <th>화</th>\n",
              "      <td>3419948</td>\n",
              "    </tr>\n",
              "    <tr>\n",
              "      <th>20190203</th>\n",
              "      <th>일</th>\n",
              "      <td>3412440</td>\n",
              "    </tr>\n",
              "    <tr>\n",
              "      <th>20190204</th>\n",
              "      <th>월</th>\n",
              "      <td>2941955</td>\n",
              "    </tr>\n",
              "    <tr>\n",
              "      <th>20190205</th>\n",
              "      <th>화</th>\n",
              "      <td>2837335</td>\n",
              "    </tr>\n",
              "  </tbody>\n",
              "</table>\n",
              "<p>168 rows × 1 columns</p>\n",
              "</div>"
            ],
            "text/plain": [
              "              승차총승객수\n",
              "사용일자     요일         \n",
              "20190503 금   9229899\n",
              "20190510 금   9164243\n",
              "20190524 금   9068976\n",
              "20190517 금   9058227\n",
              "20190412 금   9012472\n",
              "...              ...\n",
              "20190206 수   3741895\n",
              "20190101 화   3419948\n",
              "20190203 일   3412440\n",
              "20190204 월   2941955\n",
              "20190205 화   2837335\n",
              "\n",
              "[168 rows x 1 columns]"
            ]
          },
          "metadata": {
            "tags": []
          },
          "execution_count": 28
        }
      ]
    },
    {
      "cell_type": "markdown",
      "metadata": {
        "id": "crB_H8KK0Gk8"
      },
      "source": [
        "## Q) 5월에 지하철 승객수가 많다?\n",
        "\n",
        "## Q) 금요일에 승객수가 많다?"
      ]
    },
    {
      "cell_type": "markdown",
      "metadata": {
        "id": "q8QEGTkY0N0a"
      },
      "source": [
        "가정1) 5월에 승객수가 많다??\n",
        "\n",
        "월별 승객수 비교 -> 필요한 컬럼 추가하기(연월)"
      ]
    },
    {
      "cell_type": "code",
      "metadata": {
        "colab": {
          "base_uri": "https://localhost:8080/",
          "height": 206
        },
        "id": "XWkGKZR9z06H",
        "outputId": "065f7cc2-0bac-4efd-e4b7-1b057dcac0cf"
      },
      "source": [
        "# 현재 일지/요일 데이터만 존재하며, 월 데이터는 존재하지 않아, 일자데이터에서 필요한 월 데이터 추출\n",
        "\n",
        "raw.tail()"
      ],
      "execution_count": 29,
      "outputs": [
        {
          "output_type": "execute_result",
          "data": {
            "text/html": [
              "<div>\n",
              "<style scoped>\n",
              "    .dataframe tbody tr th:only-of-type {\n",
              "        vertical-align: middle;\n",
              "    }\n",
              "\n",
              "    .dataframe tbody tr th {\n",
              "        vertical-align: top;\n",
              "    }\n",
              "\n",
              "    .dataframe thead th {\n",
              "        text-align: right;\n",
              "    }\n",
              "</style>\n",
              "<table border=\"1\" class=\"dataframe\">\n",
              "  <thead>\n",
              "    <tr style=\"text-align: right;\">\n",
              "      <th></th>\n",
              "      <th>사용일자</th>\n",
              "      <th>요일</th>\n",
              "      <th>노선명</th>\n",
              "      <th>역ID</th>\n",
              "      <th>역명</th>\n",
              "      <th>승차총승객수</th>\n",
              "      <th>하차총승객수</th>\n",
              "      <th>등록일자</th>\n",
              "    </tr>\n",
              "  </thead>\n",
              "  <tbody>\n",
              "    <tr>\n",
              "      <th>99337</th>\n",
              "      <td>20190331</td>\n",
              "      <td>일</td>\n",
              "      <td>중앙선</td>\n",
              "      <td>1215</td>\n",
              "      <td>아신</td>\n",
              "      <td>618</td>\n",
              "      <td>564</td>\n",
              "      <td>20190403</td>\n",
              "    </tr>\n",
              "    <tr>\n",
              "      <th>99338</th>\n",
              "      <td>20190331</td>\n",
              "      <td>일</td>\n",
              "      <td>중앙선</td>\n",
              "      <td>1216</td>\n",
              "      <td>오빈</td>\n",
              "      <td>292</td>\n",
              "      <td>264</td>\n",
              "      <td>20190403</td>\n",
              "    </tr>\n",
              "    <tr>\n",
              "      <th>99339</th>\n",
              "      <td>20190331</td>\n",
              "      <td>일</td>\n",
              "      <td>중앙선</td>\n",
              "      <td>1217</td>\n",
              "      <td>양평</td>\n",
              "      <td>2907</td>\n",
              "      <td>2644</td>\n",
              "      <td>20190403</td>\n",
              "    </tr>\n",
              "    <tr>\n",
              "      <th>99340</th>\n",
              "      <td>20190331</td>\n",
              "      <td>일</td>\n",
              "      <td>중앙선</td>\n",
              "      <td>1218</td>\n",
              "      <td>원덕</td>\n",
              "      <td>492</td>\n",
              "      <td>483</td>\n",
              "      <td>20190403</td>\n",
              "    </tr>\n",
              "    <tr>\n",
              "      <th>99341</th>\n",
              "      <td>20190331</td>\n",
              "      <td>일</td>\n",
              "      <td>우이신설선</td>\n",
              "      <td>4704</td>\n",
              "      <td>가오리</td>\n",
              "      <td>2538</td>\n",
              "      <td>2424</td>\n",
              "      <td>20190403</td>\n",
              "    </tr>\n",
              "  </tbody>\n",
              "</table>\n",
              "</div>"
            ],
            "text/plain": [
              "           사용일자 요일    노선명   역ID   역명  승차총승객수  하차총승객수      등록일자\n",
              "99337  20190331  일    중앙선  1215   아신     618     564  20190403\n",
              "99338  20190331  일    중앙선  1216   오빈     292     264  20190403\n",
              "99339  20190331  일    중앙선  1217   양평    2907    2644  20190403\n",
              "99340  20190331  일    중앙선  1218   원덕     492     483  20190403\n",
              "99341  20190331  일  우이신설선  4704  가오리    2538    2424  20190403"
            ]
          },
          "metadata": {
            "tags": []
          },
          "execution_count": 29
        }
      ]
    },
    {
      "cell_type": "code",
      "metadata": {
        "id": "kPJp4wRH0bDD"
      },
      "source": [
        "# 연월일 데이터에서 연월.월일 데이터 정리\n",
        "\n",
        "yearmonth_list = []\n",
        "monthday_list = []\n",
        "for date in raw['사용일자']:\n",
        "  yearmonth = str(date)[ :6]\n",
        "  yearmonth_list.append(yearmonth)\n",
        "  monthday = str(date)[4: ]\n",
        "  monthday_list.append(monthday)\n"
      ],
      "execution_count": 30,
      "outputs": []
    },
    {
      "cell_type": "code",
      "metadata": {
        "colab": {
          "base_uri": "https://localhost:8080/",
          "height": 206
        },
        "id": "D2OUvaztHrZn",
        "outputId": "84a9d488-6eb3-4219-f595-f0904e6936f6"
      },
      "source": [
        "# 연월/ 월일 컬럼 추가하기\n",
        "raw['연월'] = yearmonth_list\n",
        "raw['월일'] = monthday_list\n",
        "raw.head()"
      ],
      "execution_count": 31,
      "outputs": [
        {
          "output_type": "execute_result",
          "data": {
            "text/html": [
              "<div>\n",
              "<style scoped>\n",
              "    .dataframe tbody tr th:only-of-type {\n",
              "        vertical-align: middle;\n",
              "    }\n",
              "\n",
              "    .dataframe tbody tr th {\n",
              "        vertical-align: top;\n",
              "    }\n",
              "\n",
              "    .dataframe thead th {\n",
              "        text-align: right;\n",
              "    }\n",
              "</style>\n",
              "<table border=\"1\" class=\"dataframe\">\n",
              "  <thead>\n",
              "    <tr style=\"text-align: right;\">\n",
              "      <th></th>\n",
              "      <th>사용일자</th>\n",
              "      <th>요일</th>\n",
              "      <th>노선명</th>\n",
              "      <th>역ID</th>\n",
              "      <th>역명</th>\n",
              "      <th>승차총승객수</th>\n",
              "      <th>하차총승객수</th>\n",
              "      <th>등록일자</th>\n",
              "      <th>연월</th>\n",
              "      <th>월일</th>\n",
              "    </tr>\n",
              "  </thead>\n",
              "  <tbody>\n",
              "    <tr>\n",
              "      <th>0</th>\n",
              "      <td>20190201</td>\n",
              "      <td>금</td>\n",
              "      <td>중앙선</td>\n",
              "      <td>1213</td>\n",
              "      <td>신원</td>\n",
              "      <td>186</td>\n",
              "      <td>164</td>\n",
              "      <td>20190204</td>\n",
              "      <td>201902</td>\n",
              "      <td>0201</td>\n",
              "    </tr>\n",
              "    <tr>\n",
              "      <th>1</th>\n",
              "      <td>20190201</td>\n",
              "      <td>금</td>\n",
              "      <td>중앙선</td>\n",
              "      <td>1214</td>\n",
              "      <td>국수</td>\n",
              "      <td>668</td>\n",
              "      <td>669</td>\n",
              "      <td>20190204</td>\n",
              "      <td>201902</td>\n",
              "      <td>0201</td>\n",
              "    </tr>\n",
              "    <tr>\n",
              "      <th>2</th>\n",
              "      <td>20190201</td>\n",
              "      <td>금</td>\n",
              "      <td>중앙선</td>\n",
              "      <td>1215</td>\n",
              "      <td>아신</td>\n",
              "      <td>556</td>\n",
              "      <td>571</td>\n",
              "      <td>20190204</td>\n",
              "      <td>201902</td>\n",
              "      <td>0201</td>\n",
              "    </tr>\n",
              "    <tr>\n",
              "      <th>3</th>\n",
              "      <td>20190201</td>\n",
              "      <td>금</td>\n",
              "      <td>중앙선</td>\n",
              "      <td>1216</td>\n",
              "      <td>오빈</td>\n",
              "      <td>300</td>\n",
              "      <td>307</td>\n",
              "      <td>20190204</td>\n",
              "      <td>201902</td>\n",
              "      <td>0201</td>\n",
              "    </tr>\n",
              "    <tr>\n",
              "      <th>4</th>\n",
              "      <td>20190201</td>\n",
              "      <td>금</td>\n",
              "      <td>중앙선</td>\n",
              "      <td>1217</td>\n",
              "      <td>양평</td>\n",
              "      <td>2975</td>\n",
              "      <td>3236</td>\n",
              "      <td>20190204</td>\n",
              "      <td>201902</td>\n",
              "      <td>0201</td>\n",
              "    </tr>\n",
              "  </tbody>\n",
              "</table>\n",
              "</div>"
            ],
            "text/plain": [
              "       사용일자 요일  노선명   역ID  역명  승차총승객수  하차총승객수      등록일자      연월    월일\n",
              "0  20190201  금  중앙선  1213  신원     186     164  20190204  201902  0201\n",
              "1  20190201  금  중앙선  1214  국수     668     669  20190204  201902  0201\n",
              "2  20190201  금  중앙선  1215  아신     556     571  20190204  201902  0201\n",
              "3  20190201  금  중앙선  1216  오빈     300     307  20190204  201902  0201\n",
              "4  20190201  금  중앙선  1217  양평    2975    3236  20190204  201902  0201"
            ]
          },
          "metadata": {
            "tags": []
          },
          "execution_count": 31
        }
      ]
    },
    {
      "cell_type": "code",
      "metadata": {
        "id": "i3v-irkfH0Kt"
      },
      "source": [
        "# pivot_table 쓰는법\n",
        "\n",
        "#raw.pivot_table(index = , values = , aggfunc =)\n",
        "\n",
        "#pd.pivot_table(data = , index = , values = , aggfunc =)\n",
        "\n",
        "#pd.pivot_table( raw , index = , values = , aggfunc =)\n",
        "#=> 어차피 첫순서는 데이터프레임이기때문에 굳이 data=안써도 된다고 함"
      ],
      "execution_count": 32,
      "outputs": []
    },
    {
      "cell_type": "code",
      "metadata": {
        "colab": {
          "base_uri": "https://localhost:8080/",
          "height": 269
        },
        "id": "LvojCIj7HsKh",
        "outputId": "6e6e6876-d886-4aa5-bcd4-321d09ff9e13"
      },
      "source": [
        "# 월별 승객수를 정리하겠습니다. \n",
        "data_month = pd.pivot_table(raw, index = '연월', values = '승차총승객수', aggfunc='sum')\n",
        "data_month = data_month.sort_values(by = '승차총승객수', ascending= False)\n",
        "data_month #.head()"
      ],
      "execution_count": 33,
      "outputs": [
        {
          "output_type": "execute_result",
          "data": {
            "text/html": [
              "<div>\n",
              "<style scoped>\n",
              "    .dataframe tbody tr th:only-of-type {\n",
              "        vertical-align: middle;\n",
              "    }\n",
              "\n",
              "    .dataframe tbody tr th {\n",
              "        vertical-align: top;\n",
              "    }\n",
              "\n",
              "    .dataframe thead th {\n",
              "        text-align: right;\n",
              "    }\n",
              "</style>\n",
              "<table border=\"1\" class=\"dataframe\">\n",
              "  <thead>\n",
              "    <tr style=\"text-align: right;\">\n",
              "      <th></th>\n",
              "      <th>승차총승객수</th>\n",
              "    </tr>\n",
              "    <tr>\n",
              "      <th>연월</th>\n",
              "      <th></th>\n",
              "    </tr>\n",
              "  </thead>\n",
              "  <tbody>\n",
              "    <tr>\n",
              "      <th>201905</th>\n",
              "      <td>236267004</td>\n",
              "    </tr>\n",
              "    <tr>\n",
              "      <th>201901</th>\n",
              "      <td>221848014</td>\n",
              "    </tr>\n",
              "    <tr>\n",
              "      <th>201906</th>\n",
              "      <td>221547039</td>\n",
              "    </tr>\n",
              "    <tr>\n",
              "      <th>201904</th>\n",
              "      <td>218832085</td>\n",
              "    </tr>\n",
              "    <tr>\n",
              "      <th>201902</th>\n",
              "      <td>190335812</td>\n",
              "    </tr>\n",
              "    <tr>\n",
              "      <th>201903</th>\n",
              "      <td>157782643</td>\n",
              "    </tr>\n",
              "  </tbody>\n",
              "</table>\n",
              "</div>"
            ],
            "text/plain": [
              "           승차총승객수\n",
              "연월               \n",
              "201905  236267004\n",
              "201901  221848014\n",
              "201906  221547039\n",
              "201904  218832085\n",
              "201902  190335812\n",
              "201903  157782643"
            ]
          },
          "metadata": {
            "tags": []
          },
          "execution_count": 33
        }
      ]
    },
    {
      "cell_type": "markdown",
      "metadata": {
        "id": "rRIumqDbJESA"
      },
      "source": [
        "### 가정1)   5월에 승객수가 많다??    --> `True`"
      ]
    },
    {
      "cell_type": "markdown",
      "metadata": {
        "id": "9v4iJV8C_nYN"
      },
      "source": [
        "## 가정2) 금요일에 승객수가 많다?"
      ]
    },
    {
      "cell_type": "code",
      "metadata": {
        "colab": {
          "base_uri": "https://localhost:8080/",
          "height": 206
        },
        "id": "mREcXLa7Ii3_",
        "outputId": "f63edac7-e616-4676-d991-db6253caee95"
      },
      "source": [
        "raw.head()"
      ],
      "execution_count": 34,
      "outputs": [
        {
          "output_type": "execute_result",
          "data": {
            "text/html": [
              "<div>\n",
              "<style scoped>\n",
              "    .dataframe tbody tr th:only-of-type {\n",
              "        vertical-align: middle;\n",
              "    }\n",
              "\n",
              "    .dataframe tbody tr th {\n",
              "        vertical-align: top;\n",
              "    }\n",
              "\n",
              "    .dataframe thead th {\n",
              "        text-align: right;\n",
              "    }\n",
              "</style>\n",
              "<table border=\"1\" class=\"dataframe\">\n",
              "  <thead>\n",
              "    <tr style=\"text-align: right;\">\n",
              "      <th></th>\n",
              "      <th>사용일자</th>\n",
              "      <th>요일</th>\n",
              "      <th>노선명</th>\n",
              "      <th>역ID</th>\n",
              "      <th>역명</th>\n",
              "      <th>승차총승객수</th>\n",
              "      <th>하차총승객수</th>\n",
              "      <th>등록일자</th>\n",
              "      <th>연월</th>\n",
              "      <th>월일</th>\n",
              "    </tr>\n",
              "  </thead>\n",
              "  <tbody>\n",
              "    <tr>\n",
              "      <th>0</th>\n",
              "      <td>20190201</td>\n",
              "      <td>금</td>\n",
              "      <td>중앙선</td>\n",
              "      <td>1213</td>\n",
              "      <td>신원</td>\n",
              "      <td>186</td>\n",
              "      <td>164</td>\n",
              "      <td>20190204</td>\n",
              "      <td>201902</td>\n",
              "      <td>0201</td>\n",
              "    </tr>\n",
              "    <tr>\n",
              "      <th>1</th>\n",
              "      <td>20190201</td>\n",
              "      <td>금</td>\n",
              "      <td>중앙선</td>\n",
              "      <td>1214</td>\n",
              "      <td>국수</td>\n",
              "      <td>668</td>\n",
              "      <td>669</td>\n",
              "      <td>20190204</td>\n",
              "      <td>201902</td>\n",
              "      <td>0201</td>\n",
              "    </tr>\n",
              "    <tr>\n",
              "      <th>2</th>\n",
              "      <td>20190201</td>\n",
              "      <td>금</td>\n",
              "      <td>중앙선</td>\n",
              "      <td>1215</td>\n",
              "      <td>아신</td>\n",
              "      <td>556</td>\n",
              "      <td>571</td>\n",
              "      <td>20190204</td>\n",
              "      <td>201902</td>\n",
              "      <td>0201</td>\n",
              "    </tr>\n",
              "    <tr>\n",
              "      <th>3</th>\n",
              "      <td>20190201</td>\n",
              "      <td>금</td>\n",
              "      <td>중앙선</td>\n",
              "      <td>1216</td>\n",
              "      <td>오빈</td>\n",
              "      <td>300</td>\n",
              "      <td>307</td>\n",
              "      <td>20190204</td>\n",
              "      <td>201902</td>\n",
              "      <td>0201</td>\n",
              "    </tr>\n",
              "    <tr>\n",
              "      <th>4</th>\n",
              "      <td>20190201</td>\n",
              "      <td>금</td>\n",
              "      <td>중앙선</td>\n",
              "      <td>1217</td>\n",
              "      <td>양평</td>\n",
              "      <td>2975</td>\n",
              "      <td>3236</td>\n",
              "      <td>20190204</td>\n",
              "      <td>201902</td>\n",
              "      <td>0201</td>\n",
              "    </tr>\n",
              "  </tbody>\n",
              "</table>\n",
              "</div>"
            ],
            "text/plain": [
              "       사용일자 요일  노선명   역ID  역명  승차총승객수  하차총승객수      등록일자      연월    월일\n",
              "0  20190201  금  중앙선  1213  신원     186     164  20190204  201902  0201\n",
              "1  20190201  금  중앙선  1214  국수     668     669  20190204  201902  0201\n",
              "2  20190201  금  중앙선  1215  아신     556     571  20190204  201902  0201\n",
              "3  20190201  금  중앙선  1216  오빈     300     307  20190204  201902  0201\n",
              "4  20190201  금  중앙선  1217  양평    2975    3236  20190204  201902  0201"
            ]
          },
          "metadata": {
            "tags": []
          },
          "execution_count": 34
        }
      ]
    },
    {
      "cell_type": "code",
      "metadata": {
        "colab": {
          "base_uri": "https://localhost:8080/",
          "height": 300
        },
        "id": "lwEaYgJv_sMp",
        "outputId": "78256f99-ba38-4067-aa15-eb71ebeeaf3d"
      },
      "source": [
        "# 요일별 승객수를 정리\n",
        "\n",
        "data_week = pd.pivot_table(data = raw, index = '요일', values = '승차총승객수', aggfunc='sum')\n",
        "data_week = data_week.sort_values(by = '승차총승객수', ascending = False)\n",
        "data_week"
      ],
      "execution_count": 37,
      "outputs": [
        {
          "output_type": "execute_result",
          "data": {
            "text/html": [
              "<div>\n",
              "<style scoped>\n",
              "    .dataframe tbody tr th:only-of-type {\n",
              "        vertical-align: middle;\n",
              "    }\n",
              "\n",
              "    .dataframe tbody tr th {\n",
              "        vertical-align: top;\n",
              "    }\n",
              "\n",
              "    .dataframe thead th {\n",
              "        text-align: right;\n",
              "    }\n",
              "</style>\n",
              "<table border=\"1\" class=\"dataframe\">\n",
              "  <thead>\n",
              "    <tr style=\"text-align: right;\">\n",
              "      <th></th>\n",
              "      <th>승차총승객수</th>\n",
              "    </tr>\n",
              "    <tr>\n",
              "      <th>요일</th>\n",
              "      <th></th>\n",
              "    </tr>\n",
              "  </thead>\n",
              "  <tbody>\n",
              "    <tr>\n",
              "      <th>금</th>\n",
              "      <td>214064383</td>\n",
              "    </tr>\n",
              "    <tr>\n",
              "      <th>화</th>\n",
              "      <td>198116552</td>\n",
              "    </tr>\n",
              "    <tr>\n",
              "      <th>목</th>\n",
              "      <td>197522587</td>\n",
              "    </tr>\n",
              "    <tr>\n",
              "      <th>월</th>\n",
              "      <td>187921393</td>\n",
              "    </tr>\n",
              "    <tr>\n",
              "      <th>수</th>\n",
              "      <td>176959733</td>\n",
              "    </tr>\n",
              "    <tr>\n",
              "      <th>토</th>\n",
              "      <td>157401217</td>\n",
              "    </tr>\n",
              "    <tr>\n",
              "      <th>일</th>\n",
              "      <td>114626732</td>\n",
              "    </tr>\n",
              "  </tbody>\n",
              "</table>\n",
              "</div>"
            ],
            "text/plain": [
              "       승차총승객수\n",
              "요일           \n",
              "금   214064383\n",
              "화   198116552\n",
              "목   197522587\n",
              "월   187921393\n",
              "수   176959733\n",
              "토   157401217\n",
              "일   114626732"
            ]
          },
          "metadata": {
            "tags": []
          },
          "execution_count": 37
        }
      ]
    },
    {
      "cell_type": "markdown",
      "metadata": {
        "id": "sL32UH9EBuj9"
      },
      "source": [
        "## 월별로 편차가 존재할까? --> 월별 / 일자별 승객수 그래프로 살펴보기"
      ]
    },
    {
      "cell_type": "code",
      "metadata": {
        "colab": {
          "base_uri": "https://localhost:8080/"
        },
        "id": "XW7XC8N-AKiV",
        "outputId": "d7d39c85-8d7b-44ca-d098-466219a6c8b7"
      },
      "source": [
        "# 먼저 1개월 데이터 선택하기\n",
        "\n",
        "yearmonth = '201901'\n",
        "cond = raw['연월'] == yearmonth\n",
        "cond"
      ],
      "execution_count": 38,
      "outputs": [
        {
          "output_type": "execute_result",
          "data": {
            "text/plain": [
              "0        False\n",
              "1        False\n",
              "2        False\n",
              "3        False\n",
              "4        False\n",
              "         ...  \n",
              "99337    False\n",
              "99338    False\n",
              "99339    False\n",
              "99340    False\n",
              "99341    False\n",
              "Name: 연월, Length: 99342, dtype: bool"
            ]
          },
          "metadata": {
            "tags": []
          },
          "execution_count": 38
        }
      ]
    },
    {
      "cell_type": "code",
      "metadata": {
        "colab": {
          "base_uri": "https://localhost:8080/",
          "height": 424
        },
        "id": "Rvj3p50ICBXI",
        "outputId": "9d312584-c59c-4fe0-e938-6d3ff6e43058"
      },
      "source": [
        "df_selceted = raw[cond]\n",
        "df_selceted"
      ],
      "execution_count": 41,
      "outputs": [
        {
          "output_type": "execute_result",
          "data": {
            "text/html": [
              "<div>\n",
              "<style scoped>\n",
              "    .dataframe tbody tr th:only-of-type {\n",
              "        vertical-align: middle;\n",
              "    }\n",
              "\n",
              "    .dataframe tbody tr th {\n",
              "        vertical-align: top;\n",
              "    }\n",
              "\n",
              "    .dataframe thead th {\n",
              "        text-align: right;\n",
              "    }\n",
              "</style>\n",
              "<table border=\"1\" class=\"dataframe\">\n",
              "  <thead>\n",
              "    <tr style=\"text-align: right;\">\n",
              "      <th></th>\n",
              "      <th>사용일자</th>\n",
              "      <th>요일</th>\n",
              "      <th>노선명</th>\n",
              "      <th>역ID</th>\n",
              "      <th>역명</th>\n",
              "      <th>승차총승객수</th>\n",
              "      <th>하차총승객수</th>\n",
              "      <th>등록일자</th>\n",
              "      <th>연월</th>\n",
              "      <th>월일</th>\n",
              "    </tr>\n",
              "  </thead>\n",
              "  <tbody>\n",
              "    <tr>\n",
              "      <th>16543</th>\n",
              "      <td>20190101</td>\n",
              "      <td>화</td>\n",
              "      <td>경춘선</td>\n",
              "      <td>1323</td>\n",
              "      <td>가평</td>\n",
              "      <td>1520</td>\n",
              "      <td>1436</td>\n",
              "      <td>20190104</td>\n",
              "      <td>201901</td>\n",
              "      <td>0101</td>\n",
              "    </tr>\n",
              "    <tr>\n",
              "      <th>16544</th>\n",
              "      <td>20190101</td>\n",
              "      <td>화</td>\n",
              "      <td>경춘선</td>\n",
              "      <td>1322</td>\n",
              "      <td>상천</td>\n",
              "      <td>275</td>\n",
              "      <td>114</td>\n",
              "      <td>20190104</td>\n",
              "      <td>201901</td>\n",
              "      <td>0101</td>\n",
              "    </tr>\n",
              "    <tr>\n",
              "      <th>16545</th>\n",
              "      <td>20190101</td>\n",
              "      <td>화</td>\n",
              "      <td>경춘선</td>\n",
              "      <td>1321</td>\n",
              "      <td>청평</td>\n",
              "      <td>1509</td>\n",
              "      <td>1083</td>\n",
              "      <td>20190104</td>\n",
              "      <td>201901</td>\n",
              "      <td>0101</td>\n",
              "    </tr>\n",
              "    <tr>\n",
              "      <th>16546</th>\n",
              "      <td>20190101</td>\n",
              "      <td>화</td>\n",
              "      <td>경춘선</td>\n",
              "      <td>1320</td>\n",
              "      <td>대성리</td>\n",
              "      <td>357</td>\n",
              "      <td>271</td>\n",
              "      <td>20190104</td>\n",
              "      <td>201901</td>\n",
              "      <td>0101</td>\n",
              "    </tr>\n",
              "    <tr>\n",
              "      <th>16547</th>\n",
              "      <td>20190101</td>\n",
              "      <td>화</td>\n",
              "      <td>경춘선</td>\n",
              "      <td>1319</td>\n",
              "      <td>마석</td>\n",
              "      <td>1772</td>\n",
              "      <td>1963</td>\n",
              "      <td>20190104</td>\n",
              "      <td>201901</td>\n",
              "      <td>0101</td>\n",
              "    </tr>\n",
              "    <tr>\n",
              "      <th>...</th>\n",
              "      <td>...</td>\n",
              "      <td>...</td>\n",
              "      <td>...</td>\n",
              "      <td>...</td>\n",
              "      <td>...</td>\n",
              "      <td>...</td>\n",
              "      <td>...</td>\n",
              "      <td>...</td>\n",
              "      <td>...</td>\n",
              "      <td>...</td>\n",
              "    </tr>\n",
              "    <tr>\n",
              "      <th>34872</th>\n",
              "      <td>20190131</td>\n",
              "      <td>목</td>\n",
              "      <td>1호선</td>\n",
              "      <td>155</td>\n",
              "      <td>동대문</td>\n",
              "      <td>14563</td>\n",
              "      <td>15139</td>\n",
              "      <td>20190203</td>\n",
              "      <td>201901</td>\n",
              "      <td>0131</td>\n",
              "    </tr>\n",
              "    <tr>\n",
              "      <th>34873</th>\n",
              "      <td>20190131</td>\n",
              "      <td>목</td>\n",
              "      <td>1호선</td>\n",
              "      <td>154</td>\n",
              "      <td>종로5가</td>\n",
              "      <td>30249</td>\n",
              "      <td>29703</td>\n",
              "      <td>20190203</td>\n",
              "      <td>201901</td>\n",
              "      <td>0131</td>\n",
              "    </tr>\n",
              "    <tr>\n",
              "      <th>34874</th>\n",
              "      <td>20190131</td>\n",
              "      <td>목</td>\n",
              "      <td>1호선</td>\n",
              "      <td>153</td>\n",
              "      <td>종로3가</td>\n",
              "      <td>36804</td>\n",
              "      <td>35050</td>\n",
              "      <td>20190203</td>\n",
              "      <td>201901</td>\n",
              "      <td>0131</td>\n",
              "    </tr>\n",
              "    <tr>\n",
              "      <th>34875</th>\n",
              "      <td>20190131</td>\n",
              "      <td>목</td>\n",
              "      <td>1호선</td>\n",
              "      <td>152</td>\n",
              "      <td>종각</td>\n",
              "      <td>51970</td>\n",
              "      <td>50080</td>\n",
              "      <td>20190203</td>\n",
              "      <td>201901</td>\n",
              "      <td>0131</td>\n",
              "    </tr>\n",
              "    <tr>\n",
              "      <th>34876</th>\n",
              "      <td>20190131</td>\n",
              "      <td>목</td>\n",
              "      <td>1호선</td>\n",
              "      <td>151</td>\n",
              "      <td>시청</td>\n",
              "      <td>29059</td>\n",
              "      <td>29169</td>\n",
              "      <td>20190203</td>\n",
              "      <td>201901</td>\n",
              "      <td>0131</td>\n",
              "    </tr>\n",
              "  </tbody>\n",
              "</table>\n",
              "<p>18334 rows × 10 columns</p>\n",
              "</div>"
            ],
            "text/plain": [
              "           사용일자 요일  노선명   역ID    역명  승차총승객수  하차총승객수      등록일자      연월    월일\n",
              "16543  20190101  화  경춘선  1323    가평    1520    1436  20190104  201901  0101\n",
              "16544  20190101  화  경춘선  1322    상천     275     114  20190104  201901  0101\n",
              "16545  20190101  화  경춘선  1321    청평    1509    1083  20190104  201901  0101\n",
              "16546  20190101  화  경춘선  1320   대성리     357     271  20190104  201901  0101\n",
              "16547  20190101  화  경춘선  1319    마석    1772    1963  20190104  201901  0101\n",
              "...         ... ..  ...   ...   ...     ...     ...       ...     ...   ...\n",
              "34872  20190131  목  1호선   155   동대문   14563   15139  20190203  201901  0131\n",
              "34873  20190131  목  1호선   154  종로5가   30249   29703  20190203  201901  0131\n",
              "34874  20190131  목  1호선   153  종로3가   36804   35050  20190203  201901  0131\n",
              "34875  20190131  목  1호선   152    종각   51970   50080  20190203  201901  0131\n",
              "34876  20190131  목  1호선   151    시청   29059   29169  20190203  201901  0131\n",
              "\n",
              "[18334 rows x 10 columns]"
            ]
          },
          "metadata": {
            "tags": []
          },
          "execution_count": 41
        }
      ]
    },
    {
      "cell_type": "code",
      "metadata": {
        "colab": {
          "base_uri": "https://localhost:8080/",
          "height": 237
        },
        "id": "Kn1npDtiCFQV",
        "outputId": "65c875f6-d3aa-4556-ab2e-55741ac5cd1a"
      },
      "source": [
        "# 1개월 데이터에서 일자/요일별 승객수 계 데이터 정리\n",
        "\n",
        "df_pivot = df_selceted.pivot_table(index = ['월일', '요일'], values = '승차총승객수', aggfunc = 'sum')\n",
        "df_pivot.head()"
      ],
      "execution_count": 44,
      "outputs": [
        {
          "output_type": "execute_result",
          "data": {
            "text/html": [
              "<div>\n",
              "<style scoped>\n",
              "    .dataframe tbody tr th:only-of-type {\n",
              "        vertical-align: middle;\n",
              "    }\n",
              "\n",
              "    .dataframe tbody tr th {\n",
              "        vertical-align: top;\n",
              "    }\n",
              "\n",
              "    .dataframe thead th {\n",
              "        text-align: right;\n",
              "    }\n",
              "</style>\n",
              "<table border=\"1\" class=\"dataframe\">\n",
              "  <thead>\n",
              "    <tr style=\"text-align: right;\">\n",
              "      <th></th>\n",
              "      <th></th>\n",
              "      <th>승차총승객수</th>\n",
              "    </tr>\n",
              "    <tr>\n",
              "      <th>월일</th>\n",
              "      <th>요일</th>\n",
              "      <th></th>\n",
              "    </tr>\n",
              "  </thead>\n",
              "  <tbody>\n",
              "    <tr>\n",
              "      <th>0101</th>\n",
              "      <th>화</th>\n",
              "      <td>3419948</td>\n",
              "    </tr>\n",
              "    <tr>\n",
              "      <th>0102</th>\n",
              "      <th>수</th>\n",
              "      <td>7621668</td>\n",
              "    </tr>\n",
              "    <tr>\n",
              "      <th>0103</th>\n",
              "      <th>목</th>\n",
              "      <td>7873692</td>\n",
              "    </tr>\n",
              "    <tr>\n",
              "      <th>0104</th>\n",
              "      <th>금</th>\n",
              "      <td>8270345</td>\n",
              "    </tr>\n",
              "    <tr>\n",
              "      <th>0105</th>\n",
              "      <th>토</th>\n",
              "      <td>6062294</td>\n",
              "    </tr>\n",
              "  </tbody>\n",
              "</table>\n",
              "</div>"
            ],
            "text/plain": [
              "          승차총승객수\n",
              "월일   요일         \n",
              "0101 화   3419948\n",
              "0102 수   7621668\n",
              "0103 목   7873692\n",
              "0104 금   8270345\n",
              "0105 토   6062294"
            ]
          },
          "metadata": {
            "tags": []
          },
          "execution_count": 44
        }
      ]
    },
    {
      "cell_type": "code",
      "metadata": {
        "id": "4QOWU45GCxbg"
      },
      "source": [
        "df_pivot = df_pivot.reset_index()"
      ],
      "execution_count": 45,
      "outputs": []
    },
    {
      "cell_type": "code",
      "metadata": {
        "colab": {
          "base_uri": "https://localhost:8080/",
          "height": 206
        },
        "id": "qwtN-5LuDGmO",
        "outputId": "653f9570-5673-4d76-ed0e-0abdf4086e70"
      },
      "source": [
        "df_pivot.head()"
      ],
      "execution_count": 46,
      "outputs": [
        {
          "output_type": "execute_result",
          "data": {
            "text/html": [
              "<div>\n",
              "<style scoped>\n",
              "    .dataframe tbody tr th:only-of-type {\n",
              "        vertical-align: middle;\n",
              "    }\n",
              "\n",
              "    .dataframe tbody tr th {\n",
              "        vertical-align: top;\n",
              "    }\n",
              "\n",
              "    .dataframe thead th {\n",
              "        text-align: right;\n",
              "    }\n",
              "</style>\n",
              "<table border=\"1\" class=\"dataframe\">\n",
              "  <thead>\n",
              "    <tr style=\"text-align: right;\">\n",
              "      <th></th>\n",
              "      <th>월일</th>\n",
              "      <th>요일</th>\n",
              "      <th>승차총승객수</th>\n",
              "    </tr>\n",
              "  </thead>\n",
              "  <tbody>\n",
              "    <tr>\n",
              "      <th>0</th>\n",
              "      <td>0101</td>\n",
              "      <td>화</td>\n",
              "      <td>3419948</td>\n",
              "    </tr>\n",
              "    <tr>\n",
              "      <th>1</th>\n",
              "      <td>0102</td>\n",
              "      <td>수</td>\n",
              "      <td>7621668</td>\n",
              "    </tr>\n",
              "    <tr>\n",
              "      <th>2</th>\n",
              "      <td>0103</td>\n",
              "      <td>목</td>\n",
              "      <td>7873692</td>\n",
              "    </tr>\n",
              "    <tr>\n",
              "      <th>3</th>\n",
              "      <td>0104</td>\n",
              "      <td>금</td>\n",
              "      <td>8270345</td>\n",
              "    </tr>\n",
              "    <tr>\n",
              "      <th>4</th>\n",
              "      <td>0105</td>\n",
              "      <td>토</td>\n",
              "      <td>6062294</td>\n",
              "    </tr>\n",
              "  </tbody>\n",
              "</table>\n",
              "</div>"
            ],
            "text/plain": [
              "     월일 요일   승차총승객수\n",
              "0  0101  화  3419948\n",
              "1  0102  수  7621668\n",
              "2  0103  목  7873692\n",
              "3  0104  금  8270345\n",
              "4  0105  토  6062294"
            ]
          },
          "metadata": {
            "tags": []
          },
          "execution_count": 46
        }
      ]
    },
    {
      "cell_type": "code",
      "metadata": {
        "id": "BQIqG_FBDIHW"
      },
      "source": [
        "# 그래프 그리기에 필요한 라이브러리를 불러옵니다. \n",
        "# 한글을 표시하기 위해 폰트를 지정합니다. \n",
        "#import matplotlib.pyplot as plt\n",
        "#import seaborn as sns \n",
        "#from matplotlib import font_manager, rc\n",
        "#import platform \n",
        "\n",
        "# 한글 폰트 사용\n",
        "#if platform.system() == 'Windows': \n",
        "#    path = 'c:/Windows/Fonts/malgun.ttf'\n",
        "#    font_name = font_manager.FontProperties(fname=path).get_name()\n",
        "#    rc('font', family=font_name)\n",
        "#elif platform.system() == 'Darwin':\n",
        "#    rc('font', family='AppleGothic')\n",
        "\n",
        "#    #그래프에서 마이너스 기호가 표시되돌하는 설정\n",
        "#    matplotlib.rcParams['axes.unicode_minus'] = False"
      ],
      "execution_count": 58,
      "outputs": []
    },
    {
      "cell_type": "code",
      "metadata": {
        "colab": {
          "base_uri": "https://localhost:8080/",
          "height": 941
        },
        "id": "l4Eu7baoDzMG",
        "outputId": "9f03321b-fa0a-42c2-8f07-2c8fa8000415"
      },
      "source": [
        "# 일자별 승객수를 그래프로 살펴보기\n",
        "\n",
        "# 그래프를 그릴 수 있는 공간 준비\n",
        "fig, ax = plt.subplots( figsize = (20, 6))\n",
        "# 그래프 그리기\n",
        "sns.pointplot(data = df_pivot, x = '월일', y = '승차총승객수')"
      ],
      "execution_count": 51,
      "outputs": [
        {
          "output_type": "execute_result",
          "data": {
            "text/plain": [
              "<matplotlib.axes._subplots.AxesSubplot at 0x7fc29cbc5390>"
            ]
          },
          "metadata": {
            "tags": []
          },
          "execution_count": 51
        },
        {
          "output_type": "stream",
          "text": [
            "/usr/local/lib/python3.7/dist-packages/matplotlib/backends/backend_agg.py:214: RuntimeWarning: Glyph 50900 missing from current font.\n",
            "  font.set_text(s, 0.0, flags=flags)\n",
            "/usr/local/lib/python3.7/dist-packages/matplotlib/backends/backend_agg.py:214: RuntimeWarning: Glyph 51068 missing from current font.\n",
            "  font.set_text(s, 0.0, flags=flags)\n",
            "/usr/local/lib/python3.7/dist-packages/matplotlib/backends/backend_agg.py:183: RuntimeWarning: Glyph 50900 missing from current font.\n",
            "  font.set_text(s, 0, flags=flags)\n",
            "/usr/local/lib/python3.7/dist-packages/matplotlib/backends/backend_agg.py:183: RuntimeWarning: Glyph 51068 missing from current font.\n",
            "  font.set_text(s, 0, flags=flags)\n",
            "/usr/local/lib/python3.7/dist-packages/matplotlib/backends/backend_agg.py:214: RuntimeWarning: Glyph 49849 missing from current font.\n",
            "  font.set_text(s, 0.0, flags=flags)\n",
            "/usr/local/lib/python3.7/dist-packages/matplotlib/backends/backend_agg.py:214: RuntimeWarning: Glyph 52264 missing from current font.\n",
            "  font.set_text(s, 0.0, flags=flags)\n",
            "/usr/local/lib/python3.7/dist-packages/matplotlib/backends/backend_agg.py:214: RuntimeWarning: Glyph 52509 missing from current font.\n",
            "  font.set_text(s, 0.0, flags=flags)\n",
            "/usr/local/lib/python3.7/dist-packages/matplotlib/backends/backend_agg.py:214: RuntimeWarning: Glyph 44061 missing from current font.\n",
            "  font.set_text(s, 0.0, flags=flags)\n",
            "/usr/local/lib/python3.7/dist-packages/matplotlib/backends/backend_agg.py:214: RuntimeWarning: Glyph 49688 missing from current font.\n",
            "  font.set_text(s, 0.0, flags=flags)\n",
            "/usr/local/lib/python3.7/dist-packages/matplotlib/backends/backend_agg.py:183: RuntimeWarning: Glyph 49849 missing from current font.\n",
            "  font.set_text(s, 0, flags=flags)\n",
            "/usr/local/lib/python3.7/dist-packages/matplotlib/backends/backend_agg.py:183: RuntimeWarning: Glyph 52264 missing from current font.\n",
            "  font.set_text(s, 0, flags=flags)\n",
            "/usr/local/lib/python3.7/dist-packages/matplotlib/backends/backend_agg.py:183: RuntimeWarning: Glyph 52509 missing from current font.\n",
            "  font.set_text(s, 0, flags=flags)\n",
            "/usr/local/lib/python3.7/dist-packages/matplotlib/backends/backend_agg.py:183: RuntimeWarning: Glyph 44061 missing from current font.\n",
            "  font.set_text(s, 0, flags=flags)\n",
            "/usr/local/lib/python3.7/dist-packages/matplotlib/backends/backend_agg.py:183: RuntimeWarning: Glyph 49688 missing from current font.\n",
            "  font.set_text(s, 0, flags=flags)\n"
          ],
          "name": "stderr"
        },
        {
          "output_type": "display_data",
          "data": {
            "image/png": "[encoded data removed]",
            "text/plain": [
              "<Figure size 1440x432 with 1 Axes>"
            ]
          },
          "metadata": {
            "tags": [],
            "needs_background": "light"
          }
        }
      ]
    },
    {
      "cell_type": "markdown",
      "metadata": {
        "id": "tnj85mcjEgFF"
      },
      "source": [
        "## 월별 일자별 그래프 그리기"
      ]
    },
    {
      "cell_type": "code",
      "metadata": {
        "colab": {
          "base_uri": "https://localhost:8080/"
        },
        "id": "FFNg4eTtEAXj",
        "outputId": "50c9615b-7196-4c32-a33f-3e0688e3cea7"
      },
      "source": [
        "raw['연월'].unique()"
      ],
      "execution_count": 52,
      "outputs": [
        {
          "output_type": "execute_result",
          "data": {
            "text/plain": [
              "array(['201902', '201901', '201906', '201904', '201905', '201903'],\n",
              "      dtype=object)"
            ]
          },
          "metadata": {
            "tags": []
          },
          "execution_count": 52
        }
      ]
    },
    {
      "cell_type": "code",
      "metadata": {
        "colab": {
          "base_uri": "https://localhost:8080/",
          "height": 1000
        },
        "id": "IqP7pxODElw-",
        "outputId": "624e9d2d-b4ff-49f8-eeca-9b2829f6af1a"
      },
      "source": [
        "# 반복문 통해 모든 월에 대한 그래프를 그려봄\n",
        "# 월별 그래프 그리기\n",
        "\n",
        "for yearmonth in raw['연월'].unique():\n",
        "  print(yearmonth)\n",
        "\n",
        "  cond = raw['연월'] == yearmonth\n",
        "  df_selceted = raw[cond]\n",
        "\n",
        "  df_pivot = df_selceted.pivot_table(index = ['월일', '요일'], values = '승차총승객수', aggfunc = 'sum')\n",
        "  df_pivot = df_pivot.reset_index()\n",
        "\n",
        "#그래프 그릴수 있는 공간 만들기\n",
        "  fig, ax = plt.subplots( figsize = (20, 6))\n",
        "  # 그래프 그리기(그래프 제목 설정하기)\n",
        "  ax.set_title(f'일자별 지하철 승객수({yearmonth})')\n",
        "  sns.pointplot(data = df_pivot, x = '월일', y = '승차총승객수')"
      ],
      "execution_count": 61,
      "outputs": [
        {
          "output_type": "stream",
          "text": [
            "201902\n",
            "201901\n",
            "201906\n",
            "201904\n",
            "201905\n",
            "201903\n"
          ],
          "name": "stdout"
        },
        {
          "output_type": "stream",
          "text": [
            "/usr/local/lib/python3.7/dist-packages/matplotlib/backends/backend_agg.py:214: RuntimeWarning: Glyph 51068 missing from current font.\n",
            "  font.set_text(s, 0.0, flags=flags)\n",
            "/usr/local/lib/python3.7/dist-packages/matplotlib/backends/backend_agg.py:214: RuntimeWarning: Glyph 51088 missing from current font.\n",
            "  font.set_text(s, 0.0, flags=flags)\n",
            "/usr/local/lib/python3.7/dist-packages/matplotlib/backends/backend_agg.py:214: RuntimeWarning: Glyph 48324 missing from current font.\n",
            "  font.set_text(s, 0.0, flags=flags)\n",
            "/usr/local/lib/python3.7/dist-packages/matplotlib/backends/backend_agg.py:214: RuntimeWarning: Glyph 51648 missing from current font.\n",
            "  font.set_text(s, 0.0, flags=flags)\n",
            "/usr/local/lib/python3.7/dist-packages/matplotlib/backends/backend_agg.py:214: RuntimeWarning: Glyph 54616 missing from current font.\n",
            "  font.set_text(s, 0.0, flags=flags)\n",
            "/usr/local/lib/python3.7/dist-packages/matplotlib/backends/backend_agg.py:214: RuntimeWarning: Glyph 52384 missing from current font.\n",
            "  font.set_text(s, 0.0, flags=flags)\n",
            "/usr/local/lib/python3.7/dist-packages/matplotlib/backends/backend_agg.py:214: RuntimeWarning: Glyph 49849 missing from current font.\n",
            "  font.set_text(s, 0.0, flags=flags)\n",
            "/usr/local/lib/python3.7/dist-packages/matplotlib/backends/backend_agg.py:214: RuntimeWarning: Glyph 44061 missing from current font.\n",
            "  font.set_text(s, 0.0, flags=flags)\n",
            "/usr/local/lib/python3.7/dist-packages/matplotlib/backends/backend_agg.py:214: RuntimeWarning: Glyph 49688 missing from current font.\n",
            "  font.set_text(s, 0.0, flags=flags)\n",
            "/usr/local/lib/python3.7/dist-packages/matplotlib/backends/backend_agg.py:214: RuntimeWarning: Glyph 50900 missing from current font.\n",
            "  font.set_text(s, 0.0, flags=flags)\n",
            "/usr/local/lib/python3.7/dist-packages/matplotlib/backends/backend_agg.py:183: RuntimeWarning: Glyph 50900 missing from current font.\n",
            "  font.set_text(s, 0, flags=flags)\n",
            "/usr/local/lib/python3.7/dist-packages/matplotlib/backends/backend_agg.py:183: RuntimeWarning: Glyph 51068 missing from current font.\n",
            "  font.set_text(s, 0, flags=flags)\n",
            "/usr/local/lib/python3.7/dist-packages/matplotlib/backends/backend_agg.py:214: RuntimeWarning: Glyph 52264 missing from current font.\n",
            "  font.set_text(s, 0.0, flags=flags)\n",
            "/usr/local/lib/python3.7/dist-packages/matplotlib/backends/backend_agg.py:214: RuntimeWarning: Glyph 52509 missing from current font.\n",
            "  font.set_text(s, 0.0, flags=flags)\n",
            "/usr/local/lib/python3.7/dist-packages/matplotlib/backends/backend_agg.py:183: RuntimeWarning: Glyph 49849 missing from current font.\n",
            "  font.set_text(s, 0, flags=flags)\n",
            "/usr/local/lib/python3.7/dist-packages/matplotlib/backends/backend_agg.py:183: RuntimeWarning: Glyph 52264 missing from current font.\n",
            "  font.set_text(s, 0, flags=flags)\n",
            "/usr/local/lib/python3.7/dist-packages/matplotlib/backends/backend_agg.py:183: RuntimeWarning: Glyph 52509 missing from current font.\n",
            "  font.set_text(s, 0, flags=flags)\n",
            "/usr/local/lib/python3.7/dist-packages/matplotlib/backends/backend_agg.py:183: RuntimeWarning: Glyph 44061 missing from current font.\n",
            "  font.set_text(s, 0, flags=flags)\n",
            "/usr/local/lib/python3.7/dist-packages/matplotlib/backends/backend_agg.py:183: RuntimeWarning: Glyph 49688 missing from current font.\n",
            "  font.set_text(s, 0, flags=flags)\n",
            "/usr/local/lib/python3.7/dist-packages/matplotlib/backends/backend_agg.py:183: RuntimeWarning: Glyph 51088 missing from current font.\n",
            "  font.set_text(s, 0, flags=flags)\n",
            "/usr/local/lib/python3.7/dist-packages/matplotlib/backends/backend_agg.py:183: RuntimeWarning: Glyph 48324 missing from current font.\n",
            "  font.set_text(s, 0, flags=flags)\n",
            "/usr/local/lib/python3.7/dist-packages/matplotlib/backends/backend_agg.py:183: RuntimeWarning: Glyph 51648 missing from current font.\n",
            "  font.set_text(s, 0, flags=flags)\n",
            "/usr/local/lib/python3.7/dist-packages/matplotlib/backends/backend_agg.py:183: RuntimeWarning: Glyph 54616 missing from current font.\n",
            "  font.set_text(s, 0, flags=flags)\n",
            "/usr/local/lib/python3.7/dist-packages/matplotlib/backends/backend_agg.py:183: RuntimeWarning: Glyph 52384 missing from current font.\n",
            "  font.set_text(s, 0, flags=flags)\n"
          ],
          "name": "stderr"
        },
        {
          "output_type": "display_data",
          "data": {
            "image/png": "[encoded data removed]",
            "text/plain": [
              "<Figure size 1440x432 with 1 Axes>"
            ]
          },
          "metadata": {
            "tags": [],
            "needs_background": "light"
          }
        },
        {
          "output_type": "display_data",
          "data": {
            "image/png": "[encoded data removed]",
            "text/plain": [
              "<Figure size 1440x432 with 1 Axes>"
            ]
          },
          "metadata": {
            "tags": [],
            "needs_background": "light"
          }
        },
        {
          "output_type": "display_data",
          "data": {
            "image/png": "[encoded data removed]",
            "text/plain": [
              "<Figure size 1440x432 with 1 Axes>"
            ]
          },
          "metadata": {
            "tags": [],
            "needs_background": "light"
          }
        },
        {
          "output_type": "display_data",
          "data": {
            "image/png": "[encoded data removed]",
            "text/plain": [
              "<Figure size 1440x432 with 1 Axes>"
            ]
          },
          "metadata": {
            "tags": [],
            "needs_background": "light"
          }
        },
        {
          "output_type": "display_data",
          "data": {
            "image/png": "[encoded data removed]",
            "text/plain": [
              "<Figure size 1440x432 with 1 Axes>"
            ]
          },
          "metadata": {
            "tags": [],
            "needs_background": "light"
          }
        },
        {
          "output_type": "display_data",
          "data": {
            "image/png": "[encoded data removed]",
            "text/plain": [
              "<Figure size 1440x432 with 1 Axes>"
            ]
          },
          "metadata": {
            "tags": [],
            "needs_background": "light"
          }
        }
      ]
    },
    {
      "cell_type": "markdown",
      "metadata": {
        "id": "zEJxmkqDO9DP"
      },
      "source": [
        "#"
      ]
    },
    {
      "cell_type": "code",
      "metadata": {
        "id": "A1HF1zMLEwLK"
      },
      "source": [
        ""
      ],
      "execution_count": null,
      "outputs": []
    }
  ]
}